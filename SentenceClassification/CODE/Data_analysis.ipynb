{
 "cells": [
  {
   "cell_type": "code",
   "execution_count": 8,
   "metadata": {},
   "outputs": [],
   "source": [
    "import pandas as pd\n",
    "from reading_data import reading_files, reading_files_test\n",
    "from create_dataset import create_dataset"
   ]
  },
  {
   "cell_type": "code",
   "execution_count": 12,
   "metadata": {},
   "outputs": [
    {
     "name": "stdout",
     "output_type": "stream",
     "text": [
      "Total number of files:  50\n",
      "Total CUIs:  2331\n",
      "Total Data:  50\n",
      "Total number of files:  50\n"
     ]
    }
   ],
   "source": [
    "train_data, CUI, iCUI = reading_files(\"./train\")\n",
    "train_df = create_dataset(train_data)\n",
    "\n",
    "test_data, _ = reading_files_test(\"./testing\")\n",
    "test_df = create_dataset(test_data)"
   ]
  },
  {
   "cell_type": "code",
   "execution_count": 32,
   "metadata": {},
   "outputs": [
    {
     "name": "stdout",
     "output_type": "stream",
     "text": [
      "Number of train docs:  50\n",
      "Number of train CUIs:  2331\n",
      "Number of unique train mentions:  3910\n",
      "\n",
      "Number of test docs:  50\n",
      "Number of test CUIs:  2579\n",
      "Number of unique test mentions:  4290\n",
      "\n",
      "Numer of seen CUIs:  1118\n",
      "Numer of seen mention in training set:  6\n"
     ]
    }
   ],
   "source": [
    "print(\"Number of train docs: \", len(train_data))\n",
    "print(\"Number of train CUIs: \", len(CUI))\n",
    "print(\"Number of unique train mentions: \", len(iCUI))\n",
    "\n",
    "\n",
    "print(\"\\nNumber of test docs: \", len(test_data))\n",
    "print(\"Number of test CUIs: \", len(set(test_df['cui'])))\n",
    "print(\"Number of unique test mentions: \", len(set(test_df['mention'])))\n",
    "\n",
    "seen_CUIs = set(train_df['cui']).intersection(set(test_df['cui']))\n",
    "print(\"\\nNumer of seen CUIs: \", len(seen_CUIs))\n",
    "seen_mentions = set(test_df['mention']).intersection(iCUI.keys())\n",
    "print(\"Numer of seen mention in training set: \", len(seen_mentions))"
   ]
  },
  {
   "cell_type": "code",
   "execution_count": 39,
   "metadata": {},
   "outputs": [
    {
     "name": "stdout",
     "output_type": "stream",
     "text": [
      "{'murmur', 'INTERACTION', 'admission', 'on admission', 'CP', 'bruit'}\n",
      "          cui                                  original_sentence  \\\n",
      "226  C0002598  006544894 NVH 65104826 1/2/2004 12:00:00 AM VT...   \n",
      "\n",
      "                                       masked_sentence      mention  \\\n",
      "226  006544894 NVH 65104826 1/2/2004 12:00:00 AM VT...  INTERACTION   \n",
      "\n",
      "     position_start  position_end  \n",
      "226            1139          1149  \n"
     ]
    },
    {
     "data": {
      "text/plain": [
       "{'C0687133'}"
      ]
     },
     "execution_count": 39,
     "metadata": {},
     "output_type": "execute_result"
    }
   ],
   "source": [
    "print(seen_mentions)\n",
    "\n",
    "print(test_df[test_df['mention']=='INTERACTION'])\n",
    "iCUI['INTERACTION']"
   ]
  },
  {
   "cell_type": "code",
   "execution_count": 37,
   "metadata": {},
   "outputs": [
    {
     "data": {
      "text/plain": [
       "False"
      ]
     },
     "execution_count": 37,
     "metadata": {},
     "output_type": "execute_result"
    }
   ],
   "source": [
    "\"bruit\" train_df['mention']"
   ]
  },
  {
   "cell_type": "code",
   "execution_count": null,
   "metadata": {},
   "outputs": [],
   "source": []
  },
  {
   "cell_type": "code",
   "execution_count": null,
   "metadata": {},
   "outputs": [],
   "source": []
  }
 ],
 "metadata": {
  "kernelspec": {
   "display_name": "Python 3",
   "language": "python",
   "name": "python3"
  },
  "language_info": {
   "codemirror_mode": {
    "name": "ipython",
    "version": 3
   },
   "file_extension": ".py",
   "mimetype": "text/x-python",
   "name": "python",
   "nbconvert_exporter": "python",
   "pygments_lexer": "ipython3",
   "version": "3.7.6"
  }
 },
 "nbformat": 4,
 "nbformat_minor": 4
}
