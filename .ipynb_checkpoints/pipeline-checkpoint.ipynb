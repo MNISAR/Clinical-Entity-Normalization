{
 "cells": [
  {
   "cell_type": "code",
   "execution_count": 26,
   "metadata": {},
   "outputs": [],
   "source": [
    "import os, sys\n"
   ]
  },
  {
   "cell_type": "code",
   "execution_count": 27,
   "metadata": {},
   "outputs": [],
   "source": [
    "def find_mention_in_CUI_less(mention):\n",
    "    pass\n",
    "\n",
    "def find_mention_in_training_data(mention):\n",
    "    pass\n",
    "\n",
    "def find_mention_in_UMLS_perfect_perfect_name(mention):\n",
    "    pass\n",
    "\n",
    "def find_mention_in_UMLS_synonyms_perfect_name(mention):\n",
    "    pass\n",
    "\n",
    "def find_mention_in_UMLS_perfect_partial_name(mention):\n",
    "    pass"
   ]
  },
  {
   "cell_type": "code",
   "execution_count": null,
   "metadata": {},
   "outputs": [],
   "source": []
  },
  {
   "cell_type": "code",
   "execution_count": 28,
   "metadata": {},
   "outputs": [],
   "source": [
    "import requests\n",
    "import lxml.html as lh\n",
    "from lxml.html import fromstring\n",
    "UMLS_API_KEY = \"d5b6176c-5c39-474b-90c3-e26ceea67180\"\n",
    "\n",
    "params = {'apikey': UMLS_API_KEY}\n",
    "h = {\"Content-type\": \"application/x-www-form-urlencoded\", \"Accept\": \"text/plain\", \"User-Agent\":\"python\" }\n",
    "r = requests.post(\"https://utslogin.nlm.nih.gov/cas/v1/api-key/\",data=params,headers=h)\n",
    "\n",
    "response = fromstring(r.text)\n",
    "tgt = response.xpath('//form/@action')[0]\n",
    "\n",
    "service=\"http://umlsks.nlm.nih.gov\"\n",
    "params = {'service': service}\n",
    "h = {\"Content-type\": \"application/x-www-form-urlencoded\", \"Accept\": \"text/plain\", \"User-Agent\":\"python\" }\n",
    "r = requests.post(tgt, data=params, headers=h)\n",
    "st = r.text"
   ]
  },
  {
   "cell_type": "code",
   "execution_count": 29,
   "metadata": {},
   "outputs": [
    {
     "data": {
      "text/plain": [
       "'ST-1159019-cBMn2rylQV5PZMLK2tiy-cas'"
      ]
     },
     "execution_count": 29,
     "metadata": {},
     "output_type": "execute_result"
    }
   ],
   "source": [
    "query = \"pain\"\n",
    "uri = f\"https://uts-ws.nlm.nih.gov/rest/search/current?string={query}&ticket={st}\"\n",
    "# content_endpoint = \"/rest/content/\"+str(version)+\"/CUI/\"+str(identifier)\n",
    "\n",
    "query = {'ticket':AuthClient.getst(tgt)}\n",
    "r = requests.get(uri, params=query)\n",
    "r.encoding = 'utf-8'\n",
    "items  = json.loads(r.text)\n",
    "jsonData = items[\"result\"]"
   ]
  },
  {
   "cell_type": "code",
   "execution_count": 25,
   "metadata": {},
   "outputs": [
    {
     "data": {
      "text/plain": [
       "'https://utslogin.nlm.nih.gov/cas/v1/api-key//TGT-168610-j3cO3LTvHbtAEvRb4aFaTzfh57zhQGoqeSTbDhpRbVFMdtsk9X-cas'"
      ]
     },
     "execution_count": 25,
     "metadata": {},
     "output_type": "execute_result"
    }
   ],
   "source": []
  },
  {
   "cell_type": "code",
   "execution_count": null,
   "metadata": {},
   "outputs": [],
   "source": []
  },
  {
   "cell_type": "code",
   "execution_count": null,
   "metadata": {},
   "outputs": [],
   "source": []
  }
 ],
 "metadata": {
  "kernelspec": {
   "display_name": "Python 3",
   "language": "python",
   "name": "python3"
  },
  "language_info": {
   "codemirror_mode": {
    "name": "ipython",
    "version": 3
   },
   "file_extension": ".py",
   "mimetype": "text/x-python",
   "name": "python",
   "nbconvert_exporter": "python",
   "pygments_lexer": "ipython3",
   "version": "3.7.6"
  }
 },
 "nbformat": 4,
 "nbformat_minor": 4
}
