{
 "cells": [
  {
   "cell_type": "code",
   "execution_count": 26,
   "metadata": {},
   "outputs": [],
   "source": [
    "import os, sys\n"
   ]
  },
  {
   "cell_type": "code",
   "execution_count": 27,
   "metadata": {},
   "outputs": [],
   "source": [
    "def find_mention_in_CUI_less(mention):\n",
    "    pass\n",
    "\n",
    "def find_mention_in_training_data(mention):\n",
    "    pass\n",
    "\n",
    "def find_mention_in_UMLS_perfect_perfect_name(mention):\n",
    "    pass\n",
    "\n",
    "def find_mention_in_UMLS_synonyms_perfect_name(mention):\n",
    "    pass\n",
    "\n",
    "def find_mention_in_UMLS_perfect_partial_name(mention):\n",
    "    pass"
   ]
  },
  {
   "cell_type": "code",
   "execution_count": null,
   "metadata": {},
   "outputs": [],
   "source": []
  },
  {
   "cell_type": "code",
   "execution_count": 32,
   "metadata": {},
   "outputs": [],
   "source": [
    "import requests, json\n",
    "import lxml.html as lh\n",
    "from lxml.html import fromstring\n",
    "UMLS_API_KEY = \"d5b6176c-5c39-474b-90c3-e26ceea67180\"\n",
    "\n",
    "params = {'apikey': UMLS_API_KEY}\n",
    "h = {\"Content-type\": \"application/x-www-form-urlencoded\", \"Accept\": \"text/plain\", \"User-Agent\":\"python\" }\n",
    "r = requests.post(\"https://utslogin.nlm.nih.gov/cas/v1/api-key/\",data=params,headers=h)\n",
    "\n",
    "response = fromstring(r.text)\n",
    "tgt = response.xpath('//form/@action')[0]\n",
    "\n",
    "service=\"http://umlsks.nlm.nih.gov\"\n",
    "params = {'service': service}\n",
    "h = {\"Content-type\": \"application/x-www-form-urlencoded\", \"Accept\": \"text/plain\", \"User-Agent\":\"python\" }\n",
    "r = requests.post(tgt, data=params, headers=h)\n",
    "st = r.text"
   ]
  },
  {
   "cell_type": "code",
   "execution_count": 34,
   "metadata": {},
   "outputs": [],
   "source": [
    "query = \"pain\"\n",
    "uri = f\"https://uts-ws.nlm.nih.gov/rest/search/current?string={query}&ticket={st}\"\n",
    "# content_endpoint = \"/rest/content/\"+str(version)+\"/CUI/\"+str(identifier)\n",
    "\n",
    "r = requests.get(uri)\n",
    "r.encoding = 'utf-8'\n",
    "items  = json.loads(r.text)\n",
    "jsonData = items[\"result\"]"
   ]
  },
  {
   "cell_type": "code",
   "execution_count": 35,
   "metadata": {},
   "outputs": [
    {
     "data": {
      "text/plain": [
       "{'classType': 'searchResults',\n",
       " 'results': [{'ui': 'C0006138',\n",
       "   'rootSource': 'MSH',\n",
       "   'uri': 'https://uts-ws.nlm.nih.gov/rest/content/2020AB/CUI/C0006138',\n",
       "   'name': 'Bread'},\n",
       "  {'ui': 'C0030193',\n",
       "   'rootSource': 'MTH',\n",
       "   'uri': 'https://uts-ws.nlm.nih.gov/rest/content/2020AB/CUI/C0030193',\n",
       "   'name': 'Pain'},\n",
       "  {'ui': 'C0518090',\n",
       "   'rootSource': 'MTH',\n",
       "   'uri': 'https://uts-ws.nlm.nih.gov/rest/content/2020AB/CUI/C0518090',\n",
       "   'name': 'Frequency of Pain Question'},\n",
       "  {'ui': 'C1549543',\n",
       "   'rootSource': 'MTH',\n",
       "   'uri': 'https://uts-ws.nlm.nih.gov/rest/content/2020AB/CUI/C1549543',\n",
       "   'name': 'Administration Method - Pain'},\n",
       "  {'ui': 'C1557397',\n",
       "   'rootSource': 'MTH',\n",
       "   'uri': 'https://uts-ws.nlm.nih.gov/rest/content/2020AB/CUI/C1557397',\n",
       "   'name': 'Adverse Event Associated with Pain'},\n",
       "  {'ui': 'C1882272',\n",
       "   'rootSource': 'MTH',\n",
       "   'uri': 'https://uts-ws.nlm.nih.gov/rest/content/2020AB/CUI/C1882272',\n",
       "   'name': 'Pain by Anatomic Descriptor, CTCAE'},\n",
       "  {'ui': 'C2598155',\n",
       "   'rootSource': 'MTH',\n",
       "   'uri': 'https://uts-ws.nlm.nih.gov/rest/content/2020AB/CUI/C2598155',\n",
       "   'name': 'Pain:-:Point in time:^Patient:-'},\n",
       "  {'ui': 'C2984058',\n",
       "   'rootSource': 'MTH',\n",
       "   'uri': 'https://uts-ws.nlm.nih.gov/rest/content/2020AB/CUI/C2984058',\n",
       "   'name': 'Have Pain'},\n",
       "  {'ui': 'C4085210',\n",
       "   'rootSource': 'MTH',\n",
       "   'uri': 'https://uts-ws.nlm.nih.gov/rest/content/2020AB/CUI/C4085210',\n",
       "   'name': 'Usual Severity Pain'},\n",
       "  {'ui': 'C4085211',\n",
       "   'rootSource': 'MTH',\n",
       "   'uri': 'https://uts-ws.nlm.nih.gov/rest/content/2020AB/CUI/C4085211',\n",
       "   'name': 'Pain Distress Question'},\n",
       "  {'ui': 'C4085212',\n",
       "   'rootSource': 'MTH',\n",
       "   'uri': 'https://uts-ws.nlm.nih.gov/rest/content/2020AB/CUI/C4085212',\n",
       "   'name': 'How Much Distress Pain'},\n",
       "  {'ui': 'C4553004',\n",
       "   'rootSource': 'MTH',\n",
       "   'uri': 'https://uts-ws.nlm.nih.gov/rest/content/2020AB/CUI/C4553004',\n",
       "   'name': 'Pain, CTCAE'},\n",
       "  {'ui': 'C4554132',\n",
       "   'rootSource': 'MTH',\n",
       "   'uri': 'https://uts-ws.nlm.nih.gov/rest/content/2020AB/CUI/C4554132',\n",
       "   'name': 'Feel Pain'},\n",
       "  {'ui': 'C0234225',\n",
       "   'rootSource': 'MTH',\n",
       "   'uri': 'https://uts-ws.nlm.nih.gov/rest/content/2020AB/CUI/C0234225',\n",
       "   'name': 'Absence of pain'},\n",
       "  {'ui': 'C3891813',\n",
       "   'rootSource': 'MTH',\n",
       "   'uri': 'https://uts-ws.nlm.nih.gov/rest/content/2020AB/CUI/C3891813',\n",
       "   'name': 'Had No Pain'},\n",
       "  {'ui': 'C4050153',\n",
       "   'rootSource': 'MTH',\n",
       "   'uri': 'https://uts-ws.nlm.nih.gov/rest/content/2020AB/CUI/C4050153',\n",
       "   'name': 'No Extremity Pain'},\n",
       "  {'ui': 'C4521576',\n",
       "   'rootSource': 'MTH',\n",
       "   'uri': 'https://uts-ws.nlm.nih.gov/rest/content/2020AB/CUI/C4521576',\n",
       "   'name': 'Neck Pain Score 0'},\n",
       "  {'ui': 'C0002766',\n",
       "   'rootSource': 'MTH',\n",
       "   'uri': 'https://uts-ws.nlm.nih.gov/rest/content/2020AB/CUI/C0002766',\n",
       "   'name': 'Pain management'},\n",
       "  {'ui': 'C0476289',\n",
       "   'rootSource': 'SNOMEDCT_US',\n",
       "   'uri': 'https://uts-ws.nlm.nih.gov/rest/content/2020AB/CUI/C0476289',\n",
       "   'name': 'Abdominal wind pain'},\n",
       "  {'ui': 'C2367761',\n",
       "   'rootSource': 'MEDCIN',\n",
       "   'uri': 'https://uts-ws.nlm.nih.gov/rest/content/2020AB/CUI/C2367761',\n",
       "   'name': 'pain assessed as no pain present'},\n",
       "  {'ui': 'C2367762',\n",
       "   'rootSource': 'MEDCIN',\n",
       "   'uri': 'https://uts-ws.nlm.nih.gov/rest/content/2020AB/CUI/C2367762',\n",
       "   'name': 'pain assessed as pain present'},\n",
       "  {'ui': 'C2707301',\n",
       "   'rootSource': 'MTH',\n",
       "   'uri': 'https://uts-ws.nlm.nih.gov/rest/content/2020AB/CUI/C2707301',\n",
       "   'name': 'Indicators of pain or possible pain:-:Point in time:^Patient:-'},\n",
       "  {'ui': 'C2707302',\n",
       "   'rootSource': 'MTH',\n",
       "   'uri': 'https://uts-ws.nlm.nih.gov/rest/content/2020AB/CUI/C2707302',\n",
       "   'name': 'Indicators of pain or possible pain'},\n",
       "  {'ui': 'C0000737',\n",
       "   'rootSource': 'MTH',\n",
       "   'uri': 'https://uts-ws.nlm.nih.gov/rest/content/2020AB/CUI/C0000737',\n",
       "   'name': 'Abdominal Pain'},\n",
       "  {'ui': 'C0002771',\n",
       "   'rootSource': 'MTH',\n",
       "   'uri': 'https://uts-ws.nlm.nih.gov/rest/content/2020AB/CUI/C0002771',\n",
       "   'name': 'Analgesics'}]}"
      ]
     },
     "execution_count": 35,
     "metadata": {},
     "output_type": "execute_result"
    }
   ],
   "source": [
    "jsonData"
   ]
  },
  {
   "cell_type": "code",
   "execution_count": null,
   "metadata": {},
   "outputs": [],
   "source": []
  },
  {
   "cell_type": "code",
   "execution_count": null,
   "metadata": {},
   "outputs": [],
   "source": []
  }
 ],
 "metadata": {
  "kernelspec": {
   "display_name": "Python 3",
   "language": "python",
   "name": "python3"
  },
  "language_info": {
   "codemirror_mode": {
    "name": "ipython",
    "version": 3
   },
   "file_extension": ".py",
   "mimetype": "text/x-python",
   "name": "python",
   "nbconvert_exporter": "python",
   "pygments_lexer": "ipython3",
   "version": "3.7.6"
  }
 },
 "nbformat": 4,
 "nbformat_minor": 4
}
