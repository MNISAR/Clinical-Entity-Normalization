{
  "nbformat": 4,
  "nbformat_minor": 0,
  "metadata": {
    "colab": {
      "name": "NSP_classifier_train.ipynb",
      "provenance": [],
      "collapsed_sections": []
    },
    "kernelspec": {
      "name": "python3",
      "display_name": "Python 3"
    },
    "accelerator": "GPU"
  },
  "cells": [
    {
      "cell_type": "code",
      "metadata": {
        "colab": {
          "base_uri": "https://localhost:8080/"
        },
        "id": "JrXZMma7Hkn_",
        "outputId": "ed736295-66e9-4bf5-fc24-6a61b75a077b"
      },
      "source": [
        "from google.colab import drive\n",
        "drive.mount('/content/drive')"
      ],
      "execution_count": 1,
      "outputs": [
        {
          "output_type": "stream",
          "text": [
            "Mounted at /content/drive\n"
          ],
          "name": "stdout"
        }
      ]
    },
    {
      "cell_type": "code",
      "metadata": {
        "id": "HwyYdhEtHufV"
      },
      "source": [
        "!cp /content/drive/MyDrive/extendable.hdf5 extendable.hdf5"
      ],
      "execution_count": 2,
      "outputs": []
    },
    {
      "cell_type": "code",
      "metadata": {
        "id": "Ak0SC_ki9f0J"
      },
      "source": [
        "import numpy as np\n",
        "import pandas as pd\n",
        "import seaborn as sns\n",
        "import matplotlib.pyplot as plt\n",
        "\n",
        "import torch\n",
        "import torch.nn as nn\n",
        "import torch.optim as optim\n",
        "from torch.utils.data import Dataset, DataLoader\n",
        "\n",
        "from sklearn.preprocessing import StandardScaler    \n",
        "from sklearn.model_selection import train_test_split\n",
        "from sklearn.metrics import confusion_matrix, classification_report"
      ],
      "execution_count": 3,
      "outputs": []
    },
    {
      "cell_type": "code",
      "metadata": {
        "id": "YpmCDfMWAaqH"
      },
      "source": [
        "import tables as tb, numpy as np\n",
        "hdf5_epath = 'extendable.hdf5'\n",
        "h5f = tb.open_file(hdf5_epath, mode='r')\n",
        "\n",
        "X = h5f.root.MyData.X[:]\n",
        "Y = h5f.root.MyData.Y[:]\n",
        "ID = h5f.root.MyData.id[:]\n",
        "h5f.close()"
      ],
      "execution_count": 4,
      "outputs": []
    },
    {
      "cell_type": "code",
      "metadata": {
        "colab": {
          "base_uri": "https://localhost:8080/"
        },
        "id": "DmEZsekyVqQB",
        "outputId": "44cdb764-bad3-4eed-a886-1caa30c2b4be"
      },
      "source": [
        "X = np.resize(X, (-1,786))\n",
        "y = np.resize(Y, (-1,1))\n",
        "ID = np.resize(ID, (-1,1))\n",
        "X.shape, y.shape, ID.shape"
      ],
      "execution_count": 5,
      "outputs": [
        {
          "output_type": "execute_result",
          "data": {
            "text/plain": [
              "((146762, 786), (146762, 1), (146762, 1))"
            ]
          },
          "metadata": {
            "tags": []
          },
          "execution_count": 5
        }
      ]
    },
    {
      "cell_type": "code",
      "metadata": {
        "id": "QKSq-dCD_Zyv"
      },
      "source": [
        "EPOCHS = 50\n",
        "BATCH_SIZE = 32\n",
        "LEARNING_RATE = 0.001\n",
        "MODEL_PATH = \"NSP_classification.bin\""
      ],
      "execution_count": 6,
      "outputs": []
    },
    {
      "cell_type": "code",
      "metadata": {
        "id": "4Dxu5n369uqs"
      },
      "source": [
        "# train data\n",
        "class data_loader(Dataset):\n",
        "    def __init__(self, X, y):\n",
        "        self.X_data = X\n",
        "        self.y_data = y\n",
        "    def __getitem__(self, index):\n",
        "        return torch.FloatTensor(self.X_data[index]), torch.FloatTensor(self.y_data[index])\n",
        "    def __len__ (self):\n",
        "        return len(self.X_data)\n",
        "\n",
        "X_train, X_test, y_train, y_test, id_train, id_test = train_test_split(X, y, ID, test_size=0.1, random_state=42)\n",
        "\n",
        "train_loader = DataLoader(data_loader(X_train, y_train), batch_size=BATCH_SIZE)\n",
        "test_loader = DataLoader(data_loader(X_test, y_test), batch_size=BATCH_SIZE)"
      ],
      "execution_count": 7,
      "outputs": []
    },
    {
      "cell_type": "code",
      "metadata": {
        "id": "LrUlZkrGXmBE"
      },
      "source": [
        "# train_loader[0][0].shape, train_loader[0][1].shape"
      ],
      "execution_count": 8,
      "outputs": []
    },
    {
      "cell_type": "code",
      "metadata": {
        "id": "R9YwXl7V-z-P"
      },
      "source": [
        "class binaryClassification(nn.Module):\n",
        "    def __init__(self):\n",
        "        super(binaryClassification, self).__init__()\n",
        "        self.layer_1 = nn.Linear(786, 256)\n",
        "        self.layer_2 = nn.Linear(256, 128)\n",
        "        self.layer_out = nn.Linear(128, 1)\n",
        "        \n",
        "        self.relu = nn.ReLU()\n",
        "        self.dropout = nn.Dropout(p=0.1)\n",
        "        self.batchnorm1 = nn.BatchNorm1d(256)\n",
        "        self.batchnorm2 = nn.BatchNorm1d(128)\n",
        "        \n",
        "    def forward(self, inputs):\n",
        "        x = self.relu(self.layer_1(inputs))\n",
        "        x = self.batchnorm1(x)\n",
        "        x = self.relu(self.layer_2(x))\n",
        "        x = self.batchnorm2(x)\n",
        "        x = self.dropout(x)\n",
        "        x = self.layer_out(x)\n",
        "        \n",
        "        return x\n"
      ],
      "execution_count": 9,
      "outputs": []
    },
    {
      "cell_type": "code",
      "metadata": {
        "colab": {
          "base_uri": "https://localhost:8080/"
        },
        "id": "_dm77oSM-0Pq",
        "outputId": "6fa943e3-96a3-4b01-e907-f1eadd8ed49f"
      },
      "source": [
        "device = torch.device(\"cuda:0\" if torch.cuda.is_available() else \"cpu\")\n",
        "print(device)"
      ],
      "execution_count": 10,
      "outputs": [
        {
          "output_type": "stream",
          "text": [
            "cuda:0\n"
          ],
          "name": "stdout"
        }
      ]
    },
    {
      "cell_type": "code",
      "metadata": {
        "id": "CpcARxsM-0X4"
      },
      "source": [
        "model = binaryClassification()\n",
        "model.to(device)\n",
        "# print(model)\n",
        "criterion = nn.BCEWithLogitsLoss()\n",
        "optimizer = optim.Adam(model.parameters(), lr=LEARNING_RATE)\n"
      ],
      "execution_count": 11,
      "outputs": []
    },
    {
      "cell_type": "code",
      "metadata": {
        "id": "66rBqYRL_fRe"
      },
      "source": [
        "def binary_acc(y_pred, y_test):\n",
        "    y_pred_tag = torch.round(torch.sigmoid(y_pred))\n",
        "\n",
        "    correct_results_sum = (y_pred_tag == y_test).sum().float()\n",
        "    acc = correct_results_sum/y_test.shape[0]\n",
        "    acc = torch.round(acc * 100)\n",
        "    \n",
        "    return acc\n"
      ],
      "execution_count": 12,
      "outputs": []
    },
    {
      "cell_type": "code",
      "metadata": {
        "colab": {
          "base_uri": "https://localhost:8080/"
        },
        "id": "hJeUpmdL_faS",
        "outputId": "a0910c43-7b48-4beb-c902-8d4de1b7639d"
      },
      "source": [
        "model.train()\n",
        "for e in range(1, EPOCHS+1):\n",
        "    epoch_loss = 0\n",
        "    epoch_acc = 0\n",
        "    for X_batch, y_batch in train_loader:\n",
        "        X_batch, y_batch = X_batch.to(device), y_batch.to(device)\n",
        "        optimizer.zero_grad()\n",
        "        y_pred = model(X_batch)\n",
        "        \n",
        "        # print(y_pred.shape, y_batch.shape)\n",
        "        loss = criterion(y_pred, y_batch)\n",
        "        acc = binary_acc(y_pred, y_batch)\n",
        "        \n",
        "        loss.backward()\n",
        "        optimizer.step()\n",
        "        \n",
        "        epoch_loss += loss.item()\n",
        "        epoch_acc += acc.item()\n",
        "        \n",
        "\n",
        "    print(f'Epoch {e+0:03}: | Loss: {epoch_loss/len(train_loader):.5f} | Acc: {epoch_acc/len(train_loader):.3f}')\n"
      ],
      "execution_count": 13,
      "outputs": [
        {
          "output_type": "stream",
          "text": [
            "Epoch 001: | Loss: 0.28444 | Acc: 88.261\n",
            "Epoch 002: | Loss: 0.22960 | Acc: 90.766\n",
            "Epoch 003: | Loss: 0.21027 | Acc: 91.623\n",
            "Epoch 004: | Loss: 0.19450 | Acc: 92.326\n",
            "Epoch 005: | Loss: 0.18056 | Acc: 92.987\n",
            "Epoch 006: | Loss: 0.16897 | Acc: 93.401\n",
            "Epoch 007: | Loss: 0.15899 | Acc: 93.876\n",
            "Epoch 008: | Loss: 0.15008 | Acc: 94.243\n",
            "Epoch 009: | Loss: 0.14064 | Acc: 94.530\n",
            "Epoch 010: | Loss: 0.13719 | Acc: 94.692\n",
            "Epoch 011: | Loss: 0.13174 | Acc: 94.920\n",
            "Epoch 012: | Loss: 0.12523 | Acc: 95.209\n",
            "Epoch 013: | Loss: 0.11853 | Acc: 95.445\n",
            "Epoch 014: | Loss: 0.11177 | Acc: 95.745\n",
            "Epoch 015: | Loss: 0.10546 | Acc: 96.032\n",
            "Epoch 016: | Loss: 0.10443 | Acc: 96.025\n",
            "Epoch 017: | Loss: 0.10048 | Acc: 96.148\n",
            "Epoch 018: | Loss: 0.09396 | Acc: 96.430\n",
            "Epoch 019: | Loss: 0.09038 | Acc: 96.514\n",
            "Epoch 020: | Loss: 0.08704 | Acc: 96.695\n",
            "Epoch 021: | Loss: 0.08715 | Acc: 96.659\n",
            "Epoch 022: | Loss: 0.08259 | Acc: 96.851\n",
            "Epoch 023: | Loss: 0.07698 | Acc: 97.064\n",
            "Epoch 024: | Loss: 0.07653 | Acc: 97.117\n",
            "Epoch 025: | Loss: 0.07771 | Acc: 97.000\n",
            "Epoch 026: | Loss: 0.07360 | Acc: 97.201\n",
            "Epoch 027: | Loss: 0.07213 | Acc: 97.177\n",
            "Epoch 028: | Loss: 0.06737 | Acc: 97.421\n",
            "Epoch 029: | Loss: 0.06537 | Acc: 97.512\n",
            "Epoch 030: | Loss: 0.06402 | Acc: 97.550\n",
            "Epoch 031: | Loss: 0.06140 | Acc: 97.660\n",
            "Epoch 032: | Loss: 0.05935 | Acc: 97.757\n",
            "Epoch 033: | Loss: 0.05786 | Acc: 97.805\n",
            "Epoch 034: | Loss: 0.05893 | Acc: 97.750\n",
            "Epoch 035: | Loss: 0.05572 | Acc: 97.859\n",
            "Epoch 036: | Loss: 0.05636 | Acc: 97.857\n",
            "Epoch 037: | Loss: 0.05237 | Acc: 98.019\n",
            "Epoch 038: | Loss: 0.05386 | Acc: 98.000\n",
            "Epoch 039: | Loss: 0.05014 | Acc: 98.085\n",
            "Epoch 040: | Loss: 0.05077 | Acc: 98.055\n",
            "Epoch 041: | Loss: 0.04821 | Acc: 98.169\n",
            "Epoch 042: | Loss: 0.04974 | Acc: 98.141\n",
            "Epoch 043: | Loss: 0.04612 | Acc: 98.258\n",
            "Epoch 044: | Loss: 0.04576 | Acc: 98.244\n",
            "Epoch 045: | Loss: 0.04796 | Acc: 98.168\n",
            "Epoch 046: | Loss: 0.04214 | Acc: 98.388\n",
            "Epoch 047: | Loss: 0.04353 | Acc: 98.370\n",
            "Epoch 048: | Loss: 0.04294 | Acc: 98.416\n",
            "Epoch 049: | Loss: 0.04082 | Acc: 98.467\n",
            "Epoch 050: | Loss: 0.04134 | Acc: 98.430\n"
          ],
          "name": "stdout"
        }
      ]
    },
    {
      "cell_type": "code",
      "metadata": {
        "id": "T7XHWr3y_fjC"
      },
      "source": [
        "y_pred_list = []\n",
        "y_ = []\n",
        "model.eval()\n",
        "with torch.no_grad():\n",
        "    for X_batch,_ in test_loader:\n",
        "        X_batch = X_batch.to(device)\n",
        "        y_test_pred = model(X_batch)\n",
        "        y_test_pred = torch.sigmoid(y_test_pred)\n",
        "        y_pred_tag = torch.round(y_test_pred)\n",
        "        y_pred_list.append(y_pred_tag.cpu().numpy())\n",
        "        y_.append(_.data.cpu().numpy())\n",
        "\n",
        "y_pred_list = [a.squeeze().tolist() for a in y_pred_list]"
      ],
      "execution_count": null,
      "outputs": []
    },
    {
      "cell_type": "code",
      "metadata": {
        "id": "mDxytdBJ_f3Q"
      },
      "source": [
        "torch.save(model, MODEL_PATH)"
      ],
      "execution_count": 14,
      "outputs": []
    },
    {
      "cell_type": "code",
      "metadata": {
        "id": "EKFbykgg_gBH"
      },
      "source": [
        "!cp {MODEL_PATH} /content/drive/MyDrive/NSP_classification_model.bin"
      ],
      "execution_count": 15,
      "outputs": []
    },
    {
      "cell_type": "code",
      "metadata": {
        "id": "NemkLWXt95JK"
      },
      "source": [
        ""
      ],
      "execution_count": null,
      "outputs": []
    }
  ]
}