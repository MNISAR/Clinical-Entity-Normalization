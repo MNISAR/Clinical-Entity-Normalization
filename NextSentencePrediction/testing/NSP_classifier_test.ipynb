{
  "nbformat": 4,
  "nbformat_minor": 0,
  "metadata": {
    "colab": {
      "name": "NSP_classifier_test.ipynb",
      "provenance": [],
      "collapsed_sections": []
    },
    "kernelspec": {
      "name": "python3",
      "display_name": "Python 3"
    },
    "accelerator": "GPU"
  },
  "cells": [
    {
      "cell_type": "code",
      "metadata": {
        "colab": {
          "base_uri": "https://localhost:8080/"
        },
        "id": "c-QnphaskxUm",
        "outputId": "928903d7-8f09-4f80-b874-482c83d040d0"
      },
      "source": [
        "from google.colab import drive\n",
        "drive.mount('/content/drive')"
      ],
      "execution_count": 1,
      "outputs": [
        {
          "output_type": "stream",
          "text": [
            "Mounted at /content/drive\n"
          ],
          "name": "stdout"
        }
      ]
    },
    {
      "cell_type": "code",
      "metadata": {
        "id": "vAS5WAmQvtCC"
      },
      "source": [
        "!cp /content/drive/MyDrive/extendable_test.hdf5 extendable_test.hdf5"
      ],
      "execution_count": 2,
      "outputs": []
    },
    {
      "cell_type": "code",
      "metadata": {
        "id": "-XKL_6X4vxK_"
      },
      "source": [
        "import numpy as np\n",
        "import pandas as pd\n",
        "import seaborn as sns\n",
        "import matplotlib.pyplot as plt\n",
        "\n",
        "import torch\n",
        "import torch.nn as nn\n",
        "import torch.optim as optim\n",
        "from torch.utils.data import Dataset, DataLoader\n",
        "\n",
        "from sklearn.preprocessing import StandardScaler    \n",
        "from sklearn.model_selection import train_test_split\n",
        "from sklearn.metrics import confusion_matrix, classification_report, accuracy_score"
      ],
      "execution_count": 3,
      "outputs": []
    },
    {
      "cell_type": "code",
      "metadata": {
        "id": "Vdco8BNyvxUS"
      },
      "source": [
        "import tables as tb, numpy as np\n",
        "hdf5_epath = 'extendable_test.hdf5'\n",
        "h5f = tb.open_file(hdf5_epath, mode='r')\n",
        "\n",
        "X = np.array([_ for _ in h5f.root.MyData.X[:]])\n",
        "Y = np.array([_ for _ in h5f.root.MyData.Y[:]])\n",
        "ID = np.array([_ for _ in h5f.root.MyData.id[:]])\n",
        "CUI = np.array([_ for _ in h5f.root.MyData.cui[:]])\n",
        "h5f.close()"
      ],
      "execution_count": 22,
      "outputs": []
    },
    {
      "cell_type": "code",
      "metadata": {
        "colab": {
          "base_uri": "https://localhost:8080/"
        },
        "id": "nDobP6lIvxcA",
        "outputId": "13aeb04d-94f2-4b32-dc9e-24af5defbd3f"
      },
      "source": [
        "X = np.resize(X, (-1,786))[1:]\n",
        "y = np.resize(Y, (-1,1))[1:]\n",
        "ID = np.resize(ID, (-1,1))[1:]\n",
        "CUI = np.resize(CUI, (-1,1))[1:]\n",
        "X.shape, y.shape, ID.shape"
      ],
      "execution_count": 23,
      "outputs": [
        {
          "output_type": "execute_result",
          "data": {
            "text/plain": [
              "((147760, 786), (147760, 1), (147760, 1))"
            ]
          },
          "metadata": {
            "tags": []
          },
          "execution_count": 23
        }
      ]
    },
    {
      "cell_type": "code",
      "metadata": {
        "colab": {
          "base_uri": "https://localhost:8080/"
        },
        "id": "8Eq2MTEE9Yf9",
        "outputId": "7f2d6b5c-b38a-4ebc-9a81-c4c617944a3c"
      },
      "source": [
        "device = torch.device(\"cuda:0\" if torch.cuda.is_available() else \"cpu\")\n",
        "print(device)"
      ],
      "execution_count": 24,
      "outputs": [
        {
          "output_type": "stream",
          "text": [
            "cuda:0\n"
          ],
          "name": "stdout"
        }
      ]
    },
    {
      "cell_type": "code",
      "metadata": {
        "id": "XhpaAcdAvxk_"
      },
      "source": [
        "BATCH_SIZE = 32\n",
        "MODEL_PATH = \"NSP_classification.bin\""
      ],
      "execution_count": 7,
      "outputs": []
    },
    {
      "cell_type": "code",
      "metadata": {
        "id": "pilQ-n9hvxtJ"
      },
      "source": [
        "# train data\n",
        "class data_loader(Dataset):\n",
        "    def __init__(self, X, y):\n",
        "        self.X_data = X\n",
        "        self.y_data = y\n",
        "    def __getitem__(self, index):\n",
        "        return torch.FloatTensor(self.X_data[index]), torch.FloatTensor(self.y_data[index])\n",
        "    def __len__ (self):\n",
        "        return len(self.X_data)\n",
        "\n",
        "dataloader = DataLoader(data_loader(X, y), batch_size=BATCH_SIZE)"
      ],
      "execution_count": 8,
      "outputs": []
    },
    {
      "cell_type": "code",
      "metadata": {
        "id": "EQyF_-719OQS"
      },
      "source": [
        "!cp /content/drive/MyDrive/NSP_classification_model.bin {MODEL_PATH}\n",
        "\n",
        "class binaryClassification(nn.Module):\n",
        "    def __init__(self):\n",
        "        super(binaryClassification, self).__init__()\n",
        "        self.layer_1 = nn.Linear(786, 256)\n",
        "        self.layer_2 = nn.Linear(256, 128)\n",
        "        self.layer_out = nn.Linear(128, 1)\n",
        "        \n",
        "        self.relu = nn.ReLU()\n",
        "        self.dropout = nn.Dropout(p=0.1)\n",
        "        self.batchnorm1 = nn.BatchNorm1d(256)\n",
        "        self.batchnorm2 = nn.BatchNorm1d(128)\n",
        "        \n",
        "    def forward(self, inputs):\n",
        "        x = self.relu(self.layer_1(inputs))\n",
        "        x = self.batchnorm1(x)\n",
        "        x = self.relu(self.layer_2(x))\n",
        "        x = self.batchnorm2(x)\n",
        "        x = self.dropout(x)\n",
        "        x = self.layer_out(x)\n",
        "        \n",
        "        return x\n"
      ],
      "execution_count": 9,
      "outputs": []
    },
    {
      "cell_type": "code",
      "metadata": {
        "colab": {
          "base_uri": "https://localhost:8080/"
        },
        "id": "Iv-ZRodLv6DP",
        "outputId": "979672b1-97fb-4e74-8ba3-4c719a180537"
      },
      "source": [
        "model = torch.load(MODEL_PATH, map_location='cpu')\n",
        "model.to(device)"
      ],
      "execution_count": 10,
      "outputs": [
        {
          "output_type": "execute_result",
          "data": {
            "text/plain": [
              "binaryClassification(\n",
              "  (layer_1): Linear(in_features=786, out_features=256, bias=True)\n",
              "  (layer_2): Linear(in_features=256, out_features=128, bias=True)\n",
              "  (layer_out): Linear(in_features=128, out_features=1, bias=True)\n",
              "  (relu): ReLU()\n",
              "  (dropout): Dropout(p=0.1, inplace=False)\n",
              "  (batchnorm1): BatchNorm1d(256, eps=1e-05, momentum=0.1, affine=True, track_running_stats=True)\n",
              "  (batchnorm2): BatchNorm1d(128, eps=1e-05, momentum=0.1, affine=True, track_running_stats=True)\n",
              ")"
            ]
          },
          "metadata": {
            "tags": []
          },
          "execution_count": 10
        }
      ]
    },
    {
      "cell_type": "code",
      "metadata": {
        "id": "_9RycWvxvycH"
      },
      "source": [
        "y_pred_list, y_score_list = [], []\n",
        "model.eval()\n",
        "with torch.no_grad():\n",
        "    for x in X:\n",
        "        x = torch.FloatTensor([x])\n",
        "        x = x.to(device)\n",
        "        y_test_pred = model(x)\n",
        "        y_test_pred = torch.sigmoid(y_test_pred)\n",
        "        y_pred_tag = torch.round(y_test_pred)\n",
        "        y_pred_list.append(y_pred_tag.cpu().numpy()[0][0])\n",
        "        y_score_list.append(y_test_pred.cpu().numpy()[0][0])"
      ],
      "execution_count": 11,
      "outputs": []
    },
    {
      "cell_type": "code",
      "metadata": {
        "colab": {
          "base_uri": "https://localhost:8080/"
        },
        "id": "MghZdz97vyj9",
        "outputId": "1bcd4e12-13e2-4827-eb8a-7bbc405533b8"
      },
      "source": [
        "print(accuracy_score(y_pred_list, [_[0] for _ in y]))\n",
        "confusion_matrix(y_pred_list, [_[0] for _ in y])"
      ],
      "execution_count": 12,
      "outputs": [
        {
          "output_type": "stream",
          "text": [
            "0.9071873308067135\n"
          ],
          "name": "stdout"
        },
        {
          "output_type": "execute_result",
          "data": {
            "text/plain": [
              "array([[122117,   8062],\n",
              "       [  5652,  11929]])"
            ]
          },
          "metadata": {
            "tags": []
          },
          "execution_count": 12
        }
      ]
    },
    {
      "cell_type": "code",
      "metadata": {
        "colab": {
          "base_uri": "https://localhost:8080/"
        },
        "id": "OHJdcZNvvysN",
        "outputId": "5f5bfb20-28e3-4284-a9b4-a6a859beb615"
      },
      "source": [
        "len(ID), len(CUI), len(y), len(y_pred_list), len(y_score_list)"
      ],
      "execution_count": 25,
      "outputs": [
        {
          "output_type": "execute_result",
          "data": {
            "text/plain": [
              "(147760, 147760, 147760, 147760, 147760)"
            ]
          },
          "metadata": {
            "tags": []
          },
          "execution_count": 25
        }
      ]
    },
    {
      "cell_type": "code",
      "metadata": {
        "colab": {
          "base_uri": "https://localhost:8080/",
          "height": 225
        },
        "id": "_gm-c_IXAPHB",
        "outputId": "6d8de8bf-6aac-4590-9b50-4f96e0cd0663"
      },
      "source": [
        "result = pd.DataFrame({'id': ID.flatten(), 'CUI': CUI.flatten(), 'y': y.flatten(), 'score': y_score_list, 'prediction': y_pred_list })\n",
        "result = result.set_index('id')\n",
        "result.head()"
      ],
      "execution_count": 27,
      "outputs": [
        {
          "output_type": "execute_result",
          "data": {
            "text/html": [
              "<div>\n",
              "<style scoped>\n",
              "    .dataframe tbody tr th:only-of-type {\n",
              "        vertical-align: middle;\n",
              "    }\n",
              "\n",
              "    .dataframe tbody tr th {\n",
              "        vertical-align: top;\n",
              "    }\n",
              "\n",
              "    .dataframe thead th {\n",
              "        text-align: right;\n",
              "    }\n",
              "</style>\n",
              "<table border=\"1\" class=\"dataframe\">\n",
              "  <thead>\n",
              "    <tr style=\"text-align: right;\">\n",
              "      <th></th>\n",
              "      <th>CUI</th>\n",
              "      <th>y</th>\n",
              "      <th>score</th>\n",
              "      <th>prediction</th>\n",
              "    </tr>\n",
              "    <tr>\n",
              "      <th>id</th>\n",
              "      <th></th>\n",
              "      <th></th>\n",
              "      <th></th>\n",
              "      <th></th>\n",
              "    </tr>\n",
              "  </thead>\n",
              "  <tbody>\n",
              "    <tr>\n",
              "      <th>0</th>\n",
              "      <td>b'C0019699'</td>\n",
              "      <td>1</td>\n",
              "      <td>9.049319e-05</td>\n",
              "      <td>0.0</td>\n",
              "    </tr>\n",
              "    <tr>\n",
              "      <th>0</th>\n",
              "      <td>b'C0019699'</td>\n",
              "      <td>1</td>\n",
              "      <td>7.057533e-08</td>\n",
              "      <td>0.0</td>\n",
              "    </tr>\n",
              "    <tr>\n",
              "      <th>0</th>\n",
              "      <td>b'C0019699'</td>\n",
              "      <td>1</td>\n",
              "      <td>6.002809e-10</td>\n",
              "      <td>0.0</td>\n",
              "    </tr>\n",
              "    <tr>\n",
              "      <th>0</th>\n",
              "      <td>b'C0019699'</td>\n",
              "      <td>1</td>\n",
              "      <td>4.885939e-10</td>\n",
              "      <td>0.0</td>\n",
              "    </tr>\n",
              "    <tr>\n",
              "      <th>0</th>\n",
              "      <td>b'C0019699'</td>\n",
              "      <td>1</td>\n",
              "      <td>2.229213e-02</td>\n",
              "      <td>0.0</td>\n",
              "    </tr>\n",
              "  </tbody>\n",
              "</table>\n",
              "</div>"
            ],
            "text/plain": [
              "            CUI  y         score  prediction\n",
              "id                                          \n",
              "0   b'C0019699'  1  9.049319e-05         0.0\n",
              "0   b'C0019699'  1  7.057533e-08         0.0\n",
              "0   b'C0019699'  1  6.002809e-10         0.0\n",
              "0   b'C0019699'  1  4.885939e-10         0.0\n",
              "0   b'C0019699'  1  2.229213e-02         0.0"
            ]
          },
          "metadata": {
            "tags": []
          },
          "execution_count": 27
        }
      ]
    },
    {
      "cell_type": "code",
      "metadata": {
        "id": "YXL1WdlWEnfe"
      },
      "source": [
        "new_y, new_y_pred = [], []\n",
        "indices = list(set(result.index))\n",
        "for index in indices:\n",
        "  df = result.xs(index)\n",
        "  if isinstance(df, pd.Series):\n",
        "    # print(df[0], df[1], df[2], df[3])\n",
        "    new_y.append(df[1])\n",
        "    new_y_pred.append(df[3])\n",
        "  else:\n",
        "    df = df.groupby('CUI').max()\n",
        "    temp = df[df['score']==max(df['score'])]\n",
        "    new_y.append(temp['y'].values[0])\n",
        "    new_y_pred.append(temp['prediction'].values[0])"
      ],
      "execution_count": 44,
      "outputs": []
    },
    {
      "cell_type": "code",
      "metadata": {
        "colab": {
          "base_uri": "https://localhost:8080/"
        },
        "id": "UrMsKAw8K9i5",
        "outputId": "8996574b-025a-4f66-f42e-757238217b9a"
      },
      "source": [
        "accuracy_score(new_y, new_y_pred)"
      ],
      "execution_count": 46,
      "outputs": [
        {
          "output_type": "execute_result",
          "data": {
            "text/plain": [
              "0.7236716815844602"
            ]
          },
          "metadata": {
            "tags": []
          },
          "execution_count": 46
        }
      ]
    },
    {
      "cell_type": "code",
      "metadata": {
        "colab": {
          "base_uri": "https://localhost:8080/"
        },
        "id": "IeUyUoIaLB_k",
        "outputId": "cf78386d-0501-4115-eecf-83508cc91bce"
      },
      "source": [
        "count = 0\n",
        "for y, py in zip(new_y, new_y_pred):\n",
        "  if y == py:\n",
        "    count += 1\n",
        "print(count/len(new_y))"
      ],
      "execution_count": 17,
      "outputs": [
        {
          "output_type": "stream",
          "text": [
            "0.724052561416873\n"
          ],
          "name": "stdout"
        }
      ]
    },
    {
      "cell_type": "code",
      "metadata": {
        "id": "JQw3gWRbLocI"
      },
      "source": [
        ""
      ],
      "execution_count": null,
      "outputs": []
    }
  ]
}