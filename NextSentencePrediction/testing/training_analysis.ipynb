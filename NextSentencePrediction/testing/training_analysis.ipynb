{
 "cells": [
  {
   "cell_type": "code",
   "execution_count": 19,
   "metadata": {},
   "outputs": [],
   "source": [
    "train_op = \"\"\"Epoch 001: | Loss: 0.28444 | Acc: 88.261\n",
    "Epoch 002: | Loss: 0.22960 | Acc: 90.766\n",
    "Epoch 003: | Loss: 0.21027 | Acc: 91.623\n",
    "Epoch 004: | Loss: 0.19450 | Acc: 92.326\n",
    "Epoch 005: | Loss: 0.18056 | Acc: 92.987\n",
    "Epoch 006: | Loss: 0.16897 | Acc: 93.401\n",
    "Epoch 007: | Loss: 0.15899 | Acc: 93.876\n",
    "Epoch 008: | Loss: 0.15008 | Acc: 94.243\n",
    "Epoch 009: | Loss: 0.14064 | Acc: 94.530\n",
    "Epoch 010: | Loss: 0.13719 | Acc: 94.692\n",
    "Epoch 011: | Loss: 0.13174 | Acc: 94.920\n",
    "Epoch 012: | Loss: 0.12523 | Acc: 95.209\n",
    "Epoch 013: | Loss: 0.11853 | Acc: 95.445\n",
    "Epoch 014: | Loss: 0.11177 | Acc: 95.745\n",
    "Epoch 015: | Loss: 0.10546 | Acc: 96.032\n",
    "Epoch 016: | Loss: 0.10443 | Acc: 96.025\n",
    "Epoch 017: | Loss: 0.10048 | Acc: 96.148\n",
    "Epoch 018: | Loss: 0.09396 | Acc: 96.430\n",
    "Epoch 019: | Loss: 0.09038 | Acc: 96.514\n",
    "Epoch 020: | Loss: 0.08704 | Acc: 96.695\n",
    "Epoch 021: | Loss: 0.08715 | Acc: 96.659\n",
    "Epoch 022: | Loss: 0.08259 | Acc: 96.851\n",
    "Epoch 023: | Loss: 0.07698 | Acc: 97.064\n",
    "Epoch 024: | Loss: 0.07653 | Acc: 97.117\n",
    "Epoch 025: | Loss: 0.07771 | Acc: 97.000\n",
    "Epoch 026: | Loss: 0.07360 | Acc: 97.201\n",
    "Epoch 027: | Loss: 0.07213 | Acc: 97.177\n",
    "Epoch 028: | Loss: 0.06737 | Acc: 97.421\n",
    "Epoch 029: | Loss: 0.06537 | Acc: 97.512\n",
    "Epoch 030: | Loss: 0.06402 | Acc: 97.550\n",
    "Epoch 031: | Loss: 0.06140 | Acc: 97.660\n",
    "Epoch 032: | Loss: 0.05935 | Acc: 97.757\n",
    "Epoch 033: | Loss: 0.05786 | Acc: 97.805\n",
    "Epoch 034: | Loss: 0.05893 | Acc: 97.750\n",
    "Epoch 035: | Loss: 0.05572 | Acc: 97.859\n",
    "Epoch 036: | Loss: 0.05636 | Acc: 97.857\n",
    "Epoch 037: | Loss: 0.05237 | Acc: 98.019\n",
    "Epoch 038: | Loss: 0.05386 | Acc: 98.000\n",
    "Epoch 039: | Loss: 0.05014 | Acc: 98.085\n",
    "Epoch 040: | Loss: 0.05077 | Acc: 98.055\n",
    "Epoch 041: | Loss: 0.04821 | Acc: 98.169\n",
    "Epoch 042: | Loss: 0.04974 | Acc: 98.141\n",
    "Epoch 043: | Loss: 0.04612 | Acc: 98.258\n",
    "Epoch 044: | Loss: 0.04576 | Acc: 98.244\n",
    "Epoch 045: | Loss: 0.04796 | Acc: 98.168\n",
    "Epoch 046: | Loss: 0.04214 | Acc: 98.388\n",
    "Epoch 047: | Loss: 0.04353 | Acc: 98.370\n",
    "Epoch 048: | Loss: 0.04294 | Acc: 98.416\n",
    "Epoch 049: | Loss: 0.04082 | Acc: 98.467\n",
    "Epoch 050: | Loss: 0.04134 | Acc: 98.430\"\"\""
   ]
  },
  {
   "cell_type": "code",
   "execution_count": 36,
   "metadata": {},
   "outputs": [],
   "source": [
    "train_data = list(map(lambda x:x.split(\" | \"), train_op.split(\"\\n\")))"
   ]
  },
  {
   "cell_type": "code",
   "execution_count": 37,
   "metadata": {},
   "outputs": [],
   "source": [
    "train_data = list(map(lambda x: (int(x[0][6:-1]), float(x[1][6:]), float(x[2][5:])), train_data))"
   ]
  },
  {
   "cell_type": "code",
   "execution_count": 38,
   "metadata": {},
   "outputs": [],
   "source": [
    "import matplotlib.pyplot as plt\n",
    "import numpy as np"
   ]
  },
  {
   "cell_type": "code",
   "execution_count": 39,
   "metadata": {},
   "outputs": [],
   "source": [
    "data = np.array(train_data)"
   ]
  },
  {
   "cell_type": "code",
   "execution_count": 43,
   "metadata": {},
   "outputs": [
    {
     "data": {
      "image/png": "[encoded data removed]",
      "text/plain": [
       "<Figure size 432x288 with 2 Axes>"
      ]
     },
     "metadata": {
      "needs_background": "light"
     },
     "output_type": "display_data"
    }
   ],
   "source": [
    "t = data[:,0]\n",
    "data1 = data[:,1]\n",
    "data2 = data[:,2]\n",
    "\n",
    "fig, ax1 = plt.subplots()\n",
    "\n",
    "color = 'tab:red'\n",
    "ax1.set_xlabel('epoch')\n",
    "ax1.set_ylabel('Loss', color=color)\n",
    "ax1.plot(t, data1, color=color)\n",
    "ax1.tick_params(axis='y', labelcolor=color)\n",
    "\n",
    "ax2 = ax1.twinx()  # instantiate a second axes that shares the same x-axis\n",
    "\n",
    "color = 'tab:blue'\n",
    "ax2.set_ylabel('Accuracy', color=color)  # we already handled the x-label with ax1\n",
    "ax2.plot(t, data2, color=color)\n",
    "ax2.tick_params(axis='y', labelcolor=color)\n",
    "\n",
    "fig.tight_layout()  # otherwise the right y-label is slightly clipped\n",
    "plt.show()\n"
   ]
  },
  {
   "cell_type": "code",
   "execution_count": null,
   "metadata": {},
   "outputs": [],
   "source": []
  },
  {
   "cell_type": "code",
   "execution_count": null,
   "metadata": {},
   "outputs": [],
   "source": []
  },
  {
   "cell_type": "code",
   "execution_count": null,
   "metadata": {},
   "outputs": [],
   "source": []
  },
  {
   "cell_type": "code",
   "execution_count": null,
   "metadata": {},
   "outputs": [],
   "source": []
  },
  {
   "cell_type": "code",
   "execution_count": 48,
   "metadata": {},
   "outputs": [
    {
     "data": {
      "text/plain": [
       "(6780, 9)"
      ]
     },
     "execution_count": 48,
     "metadata": {},
     "output_type": "execute_result"
    }
   ],
   "source": [
    "import pandas as pd\n",
    "df = pd.read_csv(\"C:/Users/monil/Desktop/BMI 598 - NLP/Project/Clinical-Entity-Normalization/dataframe_with_candidate_cuis_train.csv\")\n",
    "df.shape"
   ]
  },
  {
   "cell_type": "code",
   "execution_count": 66,
   "metadata": {},
   "outputs": [
    {
     "data": {
      "text/plain": [
       "0.7297317840468036"
      ]
     },
     "execution_count": 66,
     "metadata": {},
     "output_type": "execute_result"
    }
   ],
   "source": [
    "import pickle\n",
    "with open(\"C:/Users/monil/Desktop/BMI 598 - NLP/Project/Clinical-Entity-Normalization/all_data.pk\", \"rb\") as f:\n",
    "    obj = pickle.load(f)\n",
    "df = pd.DataFrame(obj)\n",
    "df.groupby('id').apply(lambda x: (Counter(x['cui']==x['actual_cui'])[False]/len(x))).mean()\n"
   ]
  },
  {
   "cell_type": "code",
   "execution_count": 109,
   "metadata": {},
   "outputs": [
    {
     "data": {
      "text/plain": [
       "'electrolyte'"
      ]
     },
     "execution_count": 109,
     "metadata": {},
     "output_type": "execute_result"
    }
   ],
   "source": [
    "id, ac, sen, st,ed,defin,c = df[df['actual_cui']=='C0428284'].values[0]\n",
    "sen[st:ed]"
   ]
  },
  {
   "cell_type": "code",
   "execution_count": 102,
   "metadata": {},
   "outputs": [
    {
     "data": {
      "text/plain": [
       "id\n",
       "0          ({True: 5, False: 1}, 6, C0019699)\n",
       "2       ({True: 11, False: 22}, 33, C0027497)\n",
       "3       ({True: 11, False: 26}, 37, C0042963)\n",
       "5          ({True: 5, False: 1}, 6, C0019699)\n",
       "6        ({True: 8, False: 37}, 45, C0005841)\n",
       "                        ...                  \n",
       "7079              ({False: 15}, 15, C0428284)\n",
       "7080                ({False: 2}, 2, C0205179)\n",
       "7081       ({True: 3, False: 2}, 5, C0376358)\n",
       "7084     ({False: 11, True: 1}, 12, C0750502)\n",
       "7085              ({False: 71}, 71, C0033213)\n",
       "Length: 5251, dtype: object"
      ]
     },
     "execution_count": 102,
     "metadata": {},
     "output_type": "execute_result"
    }
   ],
   "source": [
    "df.groupby('id').apply(lambda x: (Counter(x['cui']==x['actual_cui']),len(x), x['actual_cui'].values[0]))"
   ]
  },
  {
   "cell_type": "code",
   "execution_count": 97,
   "metadata": {},
   "outputs": [
    {
     "data": {
      "text/html": [
       "<div>\n",
       "<style scoped>\n",
       "    .dataframe tbody tr th:only-of-type {\n",
       "        vertical-align: middle;\n",
       "    }\n",
       "\n",
       "    .dataframe tbody tr th {\n",
       "        vertical-align: top;\n",
       "    }\n",
       "\n",
       "    .dataframe thead th {\n",
       "        text-align: right;\n",
       "    }\n",
       "</style>\n",
       "<table border=\"1\" class=\"dataframe\">\n",
       "  <thead>\n",
       "    <tr style=\"text-align: right;\">\n",
       "      <th></th>\n",
       "      <th>id</th>\n",
       "      <th>actual_cui</th>\n",
       "      <th>sentence</th>\n",
       "      <th>start</th>\n",
       "      <th>end</th>\n",
       "      <th>definition</th>\n",
       "      <th>cui</th>\n",
       "    </tr>\n",
       "  </thead>\n",
       "  <tbody>\n",
       "    <tr>\n",
       "      <th>6</th>\n",
       "      <td>2</td>\n",
       "      <td>C0027497</td>\n",
       "      <td>004668411 CTMC 68299235 763052 9/29/1993 12:00...</td>\n",
       "      <td>316</td>\n",
       "      <td>322</td>\n",
       "      <td>Nausea means an unpleasant sensation in the st...</td>\n",
       "      <td>C0027497</td>\n",
       "    </tr>\n",
       "    <tr>\n",
       "      <th>7</th>\n",
       "      <td>2</td>\n",
       "      <td>C0027497</td>\n",
       "      <td>004668411 CTMC 68299235 763052 9/29/1993 12:00...</td>\n",
       "      <td>316</td>\n",
       "      <td>322</td>\n",
       "      <td>Nausea means unpleasant sensation in the stoma...</td>\n",
       "      <td>C0027497</td>\n",
       "    </tr>\n",
       "    <tr>\n",
       "      <th>8</th>\n",
       "      <td>2</td>\n",
       "      <td>C0027497</td>\n",
       "      <td>004668411 CTMC 68299235 763052 9/29/1993 12:00...</td>\n",
       "      <td>316</td>\n",
       "      <td>322</td>\n",
       "      <td>Nausea means nevolnost, pocit na zvracení. obj...</td>\n",
       "      <td>C0027497</td>\n",
       "    </tr>\n",
       "    <tr>\n",
       "      <th>9</th>\n",
       "      <td>2</td>\n",
       "      <td>C0027497</td>\n",
       "      <td>004668411 CTMC 68299235 763052 9/29/1993 12:00...</td>\n",
       "      <td>316</td>\n",
       "      <td>322</td>\n",
       "      <td>Nausea means sensação desagradável no estômago...</td>\n",
       "      <td>C0027497</td>\n",
       "    </tr>\n",
       "    <tr>\n",
       "      <th>10</th>\n",
       "      <td>2</td>\n",
       "      <td>C0027497</td>\n",
       "      <td>004668411 CTMC 68299235 763052 9/29/1993 12:00...</td>\n",
       "      <td>316</td>\n",
       "      <td>322</td>\n",
       "      <td>Nausea means a sensation of unease in the stom...</td>\n",
       "      <td>C0027497</td>\n",
       "    </tr>\n",
       "    <tr>\n",
       "      <th>...</th>\n",
       "      <td>...</td>\n",
       "      <td>...</td>\n",
       "      <td>...</td>\n",
       "      <td>...</td>\n",
       "      <td>...</td>\n",
       "      <td>...</td>\n",
       "      <td>...</td>\n",
       "    </tr>\n",
       "    <tr>\n",
       "      <th>141311</th>\n",
       "      <td>6769</td>\n",
       "      <td>C0027497</td>\n",
       "      <td>879492218 YC 53470378 3210349 6/26/2004 12:00:...</td>\n",
       "      <td>859</td>\n",
       "      <td>865</td>\n",
       "      <td>Nausea means distaste for food/fluid and an ur...</td>\n",
       "      <td>C0027497</td>\n",
       "    </tr>\n",
       "    <tr>\n",
       "      <th>141312</th>\n",
       "      <td>6769</td>\n",
       "      <td>C0027497</td>\n",
       "      <td>879492218 YC 53470378 3210349 6/26/2004 12:00:...</td>\n",
       "      <td>859</td>\n",
       "      <td>865</td>\n",
       "      <td>Nausea means a disorder characterized by a que...</td>\n",
       "      <td>C0027497</td>\n",
       "    </tr>\n",
       "    <tr>\n",
       "      <th>141313</th>\n",
       "      <td>6769</td>\n",
       "      <td>C0027497</td>\n",
       "      <td>879492218 YC 53470378 3210349 6/26/2004 12:00:...</td>\n",
       "      <td>859</td>\n",
       "      <td>865</td>\n",
       "      <td>Nausea means a feeling of sickness or discomfo...</td>\n",
       "      <td>C0027497</td>\n",
       "    </tr>\n",
       "    <tr>\n",
       "      <th>141314</th>\n",
       "      <td>6769</td>\n",
       "      <td>C0027497</td>\n",
       "      <td>879492218 YC 53470378 3210349 6/26/2004 12:00:...</td>\n",
       "      <td>859</td>\n",
       "      <td>865</td>\n",
       "      <td>Nausea means upper abdominal discomfort associ...</td>\n",
       "      <td>C0027497</td>\n",
       "    </tr>\n",
       "    <tr>\n",
       "      <th>141315</th>\n",
       "      <td>6769</td>\n",
       "      <td>C0027497</td>\n",
       "      <td>879492218 YC 53470378 3210349 6/26/2004 12:00:...</td>\n",
       "      <td>859</td>\n",
       "      <td>865</td>\n",
       "      <td>Nausea means upper abdominal discomfort associ...</td>\n",
       "      <td>C0027497</td>\n",
       "    </tr>\n",
       "  </tbody>\n",
       "</table>\n",
       "<p>165 rows × 7 columns</p>\n",
       "</div>"
      ],
      "text/plain": [
       "          id actual_cui                                           sentence  \\\n",
       "6          2   C0027497  004668411 CTMC 68299235 763052 9/29/1993 12:00...   \n",
       "7          2   C0027497  004668411 CTMC 68299235 763052 9/29/1993 12:00...   \n",
       "8          2   C0027497  004668411 CTMC 68299235 763052 9/29/1993 12:00...   \n",
       "9          2   C0027497  004668411 CTMC 68299235 763052 9/29/1993 12:00...   \n",
       "10         2   C0027497  004668411 CTMC 68299235 763052 9/29/1993 12:00...   \n",
       "...      ...        ...                                                ...   \n",
       "141311  6769   C0027497  879492218 YC 53470378 3210349 6/26/2004 12:00:...   \n",
       "141312  6769   C0027497  879492218 YC 53470378 3210349 6/26/2004 12:00:...   \n",
       "141313  6769   C0027497  879492218 YC 53470378 3210349 6/26/2004 12:00:...   \n",
       "141314  6769   C0027497  879492218 YC 53470378 3210349 6/26/2004 12:00:...   \n",
       "141315  6769   C0027497  879492218 YC 53470378 3210349 6/26/2004 12:00:...   \n",
       "\n",
       "        start  end                                         definition  \\\n",
       "6         316  322  Nausea means an unpleasant sensation in the st...   \n",
       "7         316  322  Nausea means unpleasant sensation in the stoma...   \n",
       "8         316  322  Nausea means nevolnost, pocit na zvracení. obj...   \n",
       "9         316  322  Nausea means sensação desagradável no estômago...   \n",
       "10        316  322  Nausea means a sensation of unease in the stom...   \n",
       "...       ...  ...                                                ...   \n",
       "141311    859  865  Nausea means distaste for food/fluid and an ur...   \n",
       "141312    859  865  Nausea means a disorder characterized by a que...   \n",
       "141313    859  865  Nausea means a feeling of sickness or discomfo...   \n",
       "141314    859  865  Nausea means upper abdominal discomfort associ...   \n",
       "141315    859  865  Nausea means upper abdominal discomfort associ...   \n",
       "\n",
       "             cui  \n",
       "6       C0027497  \n",
       "7       C0027497  \n",
       "8       C0027497  \n",
       "9       C0027497  \n",
       "10      C0027497  \n",
       "...          ...  \n",
       "141311  C0027497  \n",
       "141312  C0027497  \n",
       "141313  C0027497  \n",
       "141314  C0027497  \n",
       "141315  C0027497  \n",
       "\n",
       "[165 rows x 7 columns]"
      ]
     },
     "execution_count": 97,
     "metadata": {},
     "output_type": "execute_result"
    }
   ],
   "source": [
    "d = df[df['cui'] == 'C0027497']\n",
    "d[d['actual_cui']=='C0027497']"
   ]
  },
  {
   "cell_type": "code",
   "execution_count": 49,
   "metadata": {},
   "outputs": [
    {
     "data": {
      "text/plain": [
       "(7086, 9)"
      ]
     },
     "execution_count": 49,
     "metadata": {},
     "output_type": "execute_result"
    }
   ],
   "source": [
    "import pandas as pd\n",
    "df = pd.read_csv(\"C:/Users/monil/Desktop/BMI 598 - NLP/Project/Clinical-Entity-Normalization/dataframe_with_candidate_cuis_test.csv\")\n",
    "df.shape"
   ]
  },
  {
   "cell_type": "code",
   "execution_count": 67,
   "metadata": {},
   "outputs": [
    {
     "data": {
      "text/plain": [
       "0.7551857868001364"
      ]
     },
     "execution_count": 67,
     "metadata": {},
     "output_type": "execute_result"
    }
   ],
   "source": [
    "import pickle\n",
    "with open(\"C:/Users/monil/Desktop/BMI 598 - NLP/Project/Clinical-Entity-Normalization/all_data_test.pk\", \"rb\") as f:\n",
    "    obj = pickle.load(f)\n",
    "df = pd.DataFrame(obj)\n",
    "df.groupby('id').apply(lambda x: (Counter(x['cui']==x['actual_cui'])[False]/len(x))).mean()"
   ]
  },
  {
   "cell_type": "code",
   "execution_count": null,
   "metadata": {},
   "outputs": [],
   "source": []
  },
  {
   "cell_type": "code",
   "execution_count": 61,
   "metadata": {},
   "outputs": [
    {
     "name": "stdout",
     "output_type": "stream",
     "text": [
      "a\n",
      "1             ({False: 2}, 2)\n",
      "2    ({False: 1, True: 1}, 2)\n",
      "3    ({False: 2, True: 1}, 3)\n",
      "dtype: object\n"
     ]
    }
   ],
   "source": []
  }
 ],
 "metadata": {
  "kernelspec": {
   "display_name": "Python 3",
   "language": "python",
   "name": "python3"
  },
  "language_info": {
   "codemirror_mode": {
    "name": "ipython",
    "version": 3
   },
   "file_extension": ".py",
   "mimetype": "text/x-python",
   "name": "python",
   "nbconvert_exporter": "python",
   "pygments_lexer": "ipython3",
   "version": "3.7.6"
  }
 },
 "nbformat": 4,
 "nbformat_minor": 4
}
