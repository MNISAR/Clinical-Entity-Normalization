{
 "cells": [
  {
   "cell_type": "code",
   "execution_count": 1,
   "metadata": {},
   "outputs": [],
   "source": [
    "from reading_data import reading_files, reading_files_test\n",
    "from create_dataset import create_dataset\n",
    "from UMLS_methods import *\n",
    "from tqdm import tqdm"
   ]
  },
  {
   "cell_type": "code",
   "execution_count": null,
   "metadata": {},
   "outputs": [],
   "source": [
    "from google.colab import drive\n",
    "drive.mount('/content/drive')"
   ]
  },
  {
   "cell_type": "code",
   "execution_count": null,
   "metadata": {},
   "outputs": [],
   "source": [
    "!cp \"/content/drive/My Drive/meta.bin\" meta.bin\n",
    "!cp \"/content/drive/My Drive/model.bin\" model.bin"
   ]
  },
  {
   "cell_type": "code",
   "execution_count": null,
   "metadata": {},
   "outputs": [],
   "source": [
    "import torch, joblib\n",
    "m = torch.load(\"model.bin\")\n",
    "meta = joblib.load(\"meta.bin\")\n",
    "enc_label = meta['enc_label']"
   ]
  },
  {
   "cell_type": "code",
   "execution_count": 2,
   "metadata": {},
   "outputs": [
    {
     "name": "stdout",
     "output_type": "stream",
     "text": [
      "Total number of files:  50\n",
      "Total CUIs:  2331\n",
      "Total Data:  50\n"
     ]
    }
   ],
   "source": [
    "# load training data\n",
    "train_data, CUI, iCUI = reading_files(\"C:/Users/monil/Desktop/BMI 598 - NLP/Project/Clinical-Entity-Normalization/train\")\n",
    "train_df = create_dataset(train_data)\n",
    "### removing CUIs from dataset that have only one mentions\n",
    "train_single_cui = []\n",
    "for cui, mention in CUI.items():\n",
    "    if len(mention) == 1:\n",
    "        train_single_cui.append(cui)"
   ]
  },
  {
   "cell_type": "code",
   "execution_count": 54,
   "metadata": {},
   "outputs": [
    {
     "name": "stdout",
     "output_type": "stream",
     "text": [
      "Total number of files:  50\n"
     ]
    }
   ],
   "source": [
    "# load test data\n",
    "test_data, _ = reading_files_test(\"C:/Users/monil/Desktop/BMI 598 - NLP/Project/Clinical-Entity-Normalization/testing\")\n",
    "test_df = create_dataset(test_data)"
   ]
  },
  {
   "cell_type": "code",
   "execution_count": 55,
   "metadata": {},
   "outputs": [
    {
     "data": {
      "text/html": [
       "<div>\n",
       "<style scoped>\n",
       "    .dataframe tbody tr th:only-of-type {\n",
       "        vertical-align: middle;\n",
       "    }\n",
       "\n",
       "    .dataframe tbody tr th {\n",
       "        vertical-align: top;\n",
       "    }\n",
       "\n",
       "    .dataframe thead th {\n",
       "        text-align: right;\n",
       "    }\n",
       "</style>\n",
       "<table border=\"1\" class=\"dataframe\">\n",
       "  <thead>\n",
       "    <tr style=\"text-align: right;\">\n",
       "      <th></th>\n",
       "      <th>cui</th>\n",
       "      <th>original_sentence</th>\n",
       "      <th>masked_sentence</th>\n",
       "      <th>mention</th>\n",
       "      <th>position_start</th>\n",
       "      <th>position_end</th>\n",
       "    </tr>\n",
       "  </thead>\n",
       "  <tbody>\n",
       "    <tr>\n",
       "      <th>0</th>\n",
       "      <td>C0019699</td>\n",
       "      <td>004668411 CTMC 68299235 763052 9/29/1993 12:00...</td>\n",
       "      <td>004668411 CTMC 68299235 763052 9/29/1993 12:00...</td>\n",
       "      <td>HIV positive</td>\n",
       "      <td>232</td>\n",
       "      <td>244</td>\n",
       "    </tr>\n",
       "    <tr>\n",
       "      <th>1</th>\n",
       "      <td>C0238552</td>\n",
       "      <td>004668411 CTMC 68299235 763052 9/29/1993 12:00...</td>\n",
       "      <td>004668411 CTMC 68299235 763052 9/29/1993 12:00...</td>\n",
       "      <td>left upper quadrant pain</td>\n",
       "      <td>280</td>\n",
       "      <td>304</td>\n",
       "    </tr>\n",
       "    <tr>\n",
       "      <th>2</th>\n",
       "      <td>C0027497</td>\n",
       "      <td>004668411 CTMC 68299235 763052 9/29/1993 12:00...</td>\n",
       "      <td>004668411 CTMC 68299235 763052 9/29/1993 12:00...</td>\n",
       "      <td>nausea</td>\n",
       "      <td>316</td>\n",
       "      <td>322</td>\n",
       "    </tr>\n",
       "    <tr>\n",
       "      <th>3</th>\n",
       "      <td>C0042963</td>\n",
       "      <td>004668411 CTMC 68299235 763052 9/29/1993 12:00...</td>\n",
       "      <td>004668411 CTMC 68299235 763052 9/29/1993 12:00...</td>\n",
       "      <td>vomiting</td>\n",
       "      <td>327</td>\n",
       "      <td>335</td>\n",
       "    </tr>\n",
       "    <tr>\n",
       "      <th>4</th>\n",
       "      <td>CUI-less</td>\n",
       "      <td>004668411 CTMC 68299235 763052 9/29/1993 12:00...</td>\n",
       "      <td>004668411 CTMC 68299235 763052 9/29/1993 12:00...</td>\n",
       "      <td>a long-standing complaint</td>\n",
       "      <td>345</td>\n",
       "      <td>370</td>\n",
       "    </tr>\n",
       "  </tbody>\n",
       "</table>\n",
       "</div>"
      ],
      "text/plain": [
       "        cui                                  original_sentence  \\\n",
       "0  C0019699  004668411 CTMC 68299235 763052 9/29/1993 12:00...   \n",
       "1  C0238552  004668411 CTMC 68299235 763052 9/29/1993 12:00...   \n",
       "2  C0027497  004668411 CTMC 68299235 763052 9/29/1993 12:00...   \n",
       "3  C0042963  004668411 CTMC 68299235 763052 9/29/1993 12:00...   \n",
       "4  CUI-less  004668411 CTMC 68299235 763052 9/29/1993 12:00...   \n",
       "\n",
       "                                     masked_sentence  \\\n",
       "0  004668411 CTMC 68299235 763052 9/29/1993 12:00...   \n",
       "1  004668411 CTMC 68299235 763052 9/29/1993 12:00...   \n",
       "2  004668411 CTMC 68299235 763052 9/29/1993 12:00...   \n",
       "3  004668411 CTMC 68299235 763052 9/29/1993 12:00...   \n",
       "4  004668411 CTMC 68299235 763052 9/29/1993 12:00...   \n",
       "\n",
       "                      mention  position_start  position_end  \n",
       "0               HIV positive              232           244  \n",
       "1   left upper quadrant pain              280           304  \n",
       "2                     nausea              316           322  \n",
       "3                   vomiting              327           335  \n",
       "4  a long-standing complaint              345           370  "
      ]
     },
     "execution_count": 55,
     "metadata": {},
     "output_type": "execute_result"
    }
   ],
   "source": [
    "test_df.head()"
   ]
  },
  {
   "cell_type": "code",
   "execution_count": 72,
   "metadata": {
    "scrolled": true
   },
   "outputs": [
    {
     "name": "stderr",
     "output_type": "stream",
     "text": [
      "\r",
      "  0%|                                                                                         | 0/7086 [00:00<?, ?it/s]"
     ]
    },
    {
     "name": "stdout",
     "output_type": "stream",
     "text": [
      "Empty DataFrame\n",
      "Columns: [prediction_source, cui]\n",
      "Index: []\n",
      "his metabolic acidosis  : C0220981 Exact 1\n"
     ]
    },
    {
     "name": "stderr",
     "output_type": "stream",
     "text": [
      "\r",
      "  0%|                                                                               | 1/7086 [00:03<7:48:59,  3.97s/it]"
     ]
    },
    {
     "name": "stdout",
     "output_type": "stream",
     "text": [
      "his metabolic acidosis  : C0220981 partial 1\n",
      "his renal function  : C2711919 Exact 1\n"
     ]
    },
    {
     "name": "stderr",
     "output_type": "stream",
     "text": [
      "\r",
      "  0%|                                                                               | 2/7086 [00:10<9:36:18,  4.88s/it]"
     ]
    },
    {
     "name": "stdout",
     "output_type": "stream",
     "text": [
      "his renal function  : C2711919 partial 1\n",
      "creatinine  : C0201975 Exact 1\n"
     ]
    },
    {
     "name": "stderr",
     "output_type": "stream",
     "text": [
      "\r",
      "  0%|                                                                              | 3/7086 [00:17<10:44:26,  5.46s/it]"
     ]
    },
    {
     "name": "stdout",
     "output_type": "stream",
     "text": [
      "creatinine  : C0201975 partial 25\n",
      "atrial fibrillation  : C0004238 Exact 1\n"
     ]
    },
    {
     "name": "stderr",
     "output_type": "stream",
     "text": [
      "\r",
      "  0%|                                                                              | 4/7086 [00:22<10:21:29,  5.27s/it]"
     ]
    },
    {
     "name": "stdout",
     "output_type": "stream",
     "text": [
      "atrial fibrillation  : C0004238 partial 25\n",
      "ventricular rate  : CUI-less Exact 1\n"
     ]
    },
    {
     "name": "stderr",
     "output_type": "stream",
     "text": [
      "\r",
      "  0%|                                                                               | 5/7086 [00:26<9:20:31,  4.75s/it]"
     ]
    },
    {
     "name": "stdout",
     "output_type": "stream",
     "text": [
      "ventricular rate  : CUI-less partial 25\n",
      "CPK  : C0201973 Exact 1\n"
     ]
    },
    {
     "name": "stderr",
     "output_type": "stream",
     "text": [
      "\r",
      "  0%|                                                                              | 6/7086 [00:32<10:30:53,  5.35s/it]"
     ]
    },
    {
     "name": "stdout",
     "output_type": "stream",
     "text": [
      "CPK  : C0201973 partial 25\n",
      "beta blockers  : C0001645 Exact 1\n"
     ]
    },
    {
     "name": "stderr",
     "output_type": "stream",
     "text": [
      "\r",
      "  0%|                                                                               | 7/7086 [00:36<9:31:40,  4.85s/it]"
     ]
    },
    {
     "name": "stdout",
     "output_type": "stream",
     "text": [
      "beta blockers  : C0001645 partial 25\n",
      "conservative management  : C0459914 Exact 1\n"
     ]
    },
    {
     "name": "stderr",
     "output_type": "stream",
     "text": [
      "\r",
      "  0%|                                                                              | 8/7086 [00:43<10:49:41,  5.51s/it]"
     ]
    },
    {
     "name": "stdout",
     "output_type": "stream",
     "text": [
      "conservative management  : C0459914 partial 2\n",
      "crisis treatment  : C1443432 Exact 1\n"
     ]
    },
    {
     "name": "stderr",
     "output_type": "stream",
     "text": [
      "\r",
      "  0%|                                                                               | 9/7086 [00:47<9:44:31,  4.96s/it]"
     ]
    },
    {
     "name": "stdout",
     "output_type": "stream",
     "text": [
      "crisis treatment  : C1443432 partial 14\n",
      "hospice  : C0019947 Exact 1\n"
     ]
    },
    {
     "name": "stderr",
     "output_type": "stream",
     "text": [
      "\r",
      "  0%|                                                                             | 10/7086 [00:54<10:50:44,  5.52s/it]"
     ]
    },
    {
     "name": "stdout",
     "output_type": "stream",
     "text": [
      "hospice  : C0019947 partial 25\n",
      "the hospice  : C0019947 Exact 1\n"
     ]
    },
    {
     "name": "stderr",
     "output_type": "stream",
     "text": [
      "\r",
      "  0%|                                                                             | 11/7086 [01:00<11:38:34,  5.92s/it]"
     ]
    },
    {
     "name": "stdout",
     "output_type": "stream",
     "text": [
      "the hospice  : C0019947 partial 25\n",
      "hospice  : C0019947 Exact 1\n"
     ]
    },
    {
     "name": "stderr",
     "output_type": "stream",
     "text": [
      "\r",
      "  0%|▏                                                                            | 12/7086 [01:11<14:11:44,  7.22s/it]"
     ]
    },
    {
     "name": "stdout",
     "output_type": "stream",
     "text": [
      "hospice  : C0019947 partial 25\n",
      "Bethanechol  : C0053526 Exact 1\n"
     ]
    },
    {
     "name": "stderr",
     "output_type": "stream",
     "text": [
      "\r",
      "  0%|▏                                                                            | 13/7086 [01:14<12:03:21,  6.14s/it]"
     ]
    },
    {
     "name": "stdout",
     "output_type": "stream",
     "text": [
      "Bethanechol  : C0053526 partial 25\n",
      "Clonidine  : C0009014 Exact 1\n"
     ]
    },
    {
     "name": "stderr",
     "output_type": "stream",
     "text": [
      "\r",
      "  0%|▏                                                                            | 14/7086 [01:18<10:36:50,  5.40s/it]"
     ]
    },
    {
     "name": "stdout",
     "output_type": "stream",
     "text": [
      "Clonidine  : C0009014 partial 25\n",
      "Colace  : C0282139 Exact 1\n"
     ]
    },
    {
     "name": "stderr",
     "output_type": "stream",
     "text": [
      "\r",
      "  0%|▏                                                                             | 15/7086 [01:22<9:44:37,  4.96s/it]"
     ]
    },
    {
     "name": "stdout",
     "output_type": "stream",
     "text": [
      "Colace  : C0282139 partial 25\n",
      "Haldol  : C0591585 Exact 1\n"
     ]
    },
    {
     "name": "stderr",
     "output_type": "stream",
     "text": [
      "\r",
      "  0%|▏                                                                             | 16/7086 [01:27<9:44:04,  4.96s/it]"
     ]
    },
    {
     "name": "stdout",
     "output_type": "stream",
     "text": [
      "Haldol  : C0591585 partial 21\n",
      "agitation  : C0085631 Exact 1\n"
     ]
    },
    {
     "name": "stderr",
     "output_type": "stream",
     "text": [
      "\r",
      "  0%|▏                                                                             | 17/7086 [01:31<8:57:18,  4.56s/it]"
     ]
    },
    {
     "name": "stdout",
     "output_type": "stream",
     "text": [
      "agitation  : C0085631 partial 25\n",
      "nitroglycerin paste  : C0306997 Exact 1\n"
     ]
    },
    {
     "name": "stderr",
     "output_type": "stream",
     "text": [
      "\r",
      "  0%|▏                                                                             | 18/7086 [01:34<8:22:38,  4.27s/it]"
     ]
    },
    {
     "name": "stdout",
     "output_type": "stream",
     "text": [
      "nitroglycerin paste  : C0306997 partial 1\n",
      "Prilosec  : C0700777 Exact 1\n"
     ]
    },
    {
     "name": "stderr",
     "output_type": "stream",
     "text": [
      "\r",
      "  0%|▏                                                                             | 19/7086 [01:38<8:07:04,  4.14s/it]"
     ]
    },
    {
     "name": "stdout",
     "output_type": "stream",
     "text": [
      "Prilosec  : C0700777 partial 19\n",
      "Senna tablets  : C3232296 Exact 1\n"
     ]
    },
    {
     "name": "stderr",
     "output_type": "stream",
     "text": [
      "\r",
      "  0%|▏                                                                             | 20/7086 [01:42<7:53:42,  4.02s/it]"
     ]
    },
    {
     "name": "stdout",
     "output_type": "stream",
     "text": [
      "Senna tablets  : C3232296 partial 1\n",
      "sodium bicarbonate  : C0074722 Exact 1\n"
     ]
    },
    {
     "name": "stderr",
     "output_type": "stream",
     "text": [
      "\r",
      "  0%|▏                                                                             | 21/7086 [01:46<7:53:29,  4.02s/it]"
     ]
    },
    {
     "name": "stdout",
     "output_type": "stream",
     "text": [
      "sodium bicarbonate  : C0074722 partial 25\n",
      "Proscar  : C0678149 Exact 1\n"
     ]
    },
    {
     "name": "stderr",
     "output_type": "stream",
     "text": [
      "\r",
      "  0%|▏                                                                             | 22/7086 [01:50<7:53:16,  4.02s/it]"
     ]
    },
    {
     "name": "stdout",
     "output_type": "stream",
     "text": [
      "Proscar  : C0678149 partial 7\n",
      "Casodex  : C0591237 Exact 1\n"
     ]
    },
    {
     "name": "stderr",
     "output_type": "stream",
     "text": [
      "\r",
      "  0%|▏                                                                            | 23/7086 [01:58<10:19:53,  5.27s/it]"
     ]
    },
    {
     "name": "stdout",
     "output_type": "stream",
     "text": [
      "Casodex  : C0591237 partial 7\n",
      "Nephrocaps  : C0306965 Exact 1\n"
     ]
    },
    {
     "name": "stderr",
     "output_type": "stream",
     "text": [
      "\r",
      "  0%|▎                                                                             | 24/7086 [02:02<9:36:59,  4.90s/it]"
     ]
    },
    {
     "name": "stdout",
     "output_type": "stream",
     "text": [
      "Nephrocaps  : C0306965 partial 14\n",
      "hospice  : C0019947 Exact 1\n"
     ]
    },
    {
     "name": "stderr",
     "output_type": "stream",
     "text": [
      "\r",
      "  0%|▎                                                                            | 25/7086 [02:09<10:49:51,  5.52s/it]"
     ]
    },
    {
     "name": "stdout",
     "output_type": "stream",
     "text": [
      "hospice  : C0019947 partial 25\n",
      "LEFT  : C0205091 Exact 1\n"
     ]
    },
    {
     "name": "stderr",
     "output_type": "stream",
     "text": [
      "\r",
      "  0%|▎                                                                             | 26/7086 [02:13<9:58:27,  5.09s/it]"
     ]
    },
    {
     "name": "stdout",
     "output_type": "stream",
     "text": [
      "LEFT  : C0205091 partial 25\n",
      "NEPHROSTOMY  : C0278314 Exact 1\n"
     ]
    },
    {
     "name": "stderr",
     "output_type": "stream",
     "text": [
      "\r",
      "  0%|▎                                                                            | 27/7086 [02:23<13:04:38,  6.67s/it]"
     ]
    },
    {
     "name": "stdout",
     "output_type": "stream",
     "text": [
      "NEPHROSTOMY  : C0278314 partial 25\n",
      "STATUS POST  : C0231290 Exact 1\n"
     ]
    },
    {
     "name": "stderr",
     "output_type": "stream",
     "text": [
      "\r",
      "  0%|▎                                                                            | 28/7086 [02:27<11:18:59,  5.77s/it]"
     ]
    },
    {
     "name": "stdout",
     "output_type": "stream",
     "text": [
      "STATUS POST  : C0231290 partial 25\n",
      "urinary retention  : C0080274 Exact 1\n"
     ]
    },
    {
     "name": "stderr",
     "output_type": "stream",
     "text": [
      "\r",
      "  0%|▎                                                                            | 29/7086 [02:32<10:36:18,  5.41s/it]"
     ]
    },
    {
     "name": "stdout",
     "output_type": "stream",
     "text": [
      "urinary retention  : C0080274 partial 25\n",
      "persistent  : C0332217 Exact 1\n"
     ]
    },
    {
     "name": "stderr",
     "output_type": "stream",
     "text": [
      "\r",
      "  0%|▎                                                                             | 30/7086 [02:36<9:44:02,  4.97s/it]"
     ]
    },
    {
     "name": "stdout",
     "output_type": "stream",
     "text": [
      "persistent  : C0332217 partial 25\n",
      "hormone therapy  : C0279025 Exact 1\n"
     ]
    },
    {
     "name": "stderr",
     "output_type": "stream",
     "text": [
      "\r",
      "  0%|▎                                                                             | 31/7086 [02:39<9:01:46,  4.61s/it]"
     ]
    },
    {
     "name": "stdout",
     "output_type": "stream",
     "text": [
      "hormone therapy  : C0279025 partial 25\n",
      "Nilandron  : C0722107 Exact 1\n"
     ]
    },
    {
     "name": "stderr",
     "output_type": "stream",
     "text": [
      "\r",
      "  0%|▎                                                                             | 32/7086 [02:43<8:27:22,  4.32s/it]"
     ]
    },
    {
     "name": "stdout",
     "output_type": "stream",
     "text": [
      "Nilandron  : C0722107 partial 7\n",
      "hematocrit  : C0018935 Exact 1\n"
     ]
    },
    {
     "name": "stderr",
     "output_type": "stream",
     "text": [
      "\r",
      "  0%|▎                                                                             | 33/7086 [02:47<8:04:53,  4.12s/it]"
     ]
    },
    {
     "name": "stdout",
     "output_type": "stream",
     "text": [
      "hematocrit  : C0018935 partial 25\n",
      "decreased  : C0205216 Exact 1\n"
     ]
    },
    {
     "name": "stderr",
     "output_type": "stream",
     "text": [
      "\r",
      "  0%|▎                                                                             | 34/7086 [02:50<7:47:59,  3.98s/it]"
     ]
    },
    {
     "name": "stdout",
     "output_type": "stream",
     "text": [
      "decreased  : C0205216 partial 25\n",
      "BUN  : C0005845 Exact 1\n"
     ]
    },
    {
     "name": "stderr",
     "output_type": "stream",
     "text": [
      "\r",
      "  0%|▍                                                                             | 35/7086 [02:57<9:28:37,  4.84s/it]"
     ]
    },
    {
     "name": "stdout",
     "output_type": "stream",
     "text": [
      "BUN  : C0005845 partial 25\n",
      "elevated  : C0205250 Exact 1\n"
     ]
    },
    {
     "name": "stderr",
     "output_type": "stream",
     "text": [
      "\r",
      "  1%|▍                                                                             | 36/7086 [03:02<9:28:47,  4.84s/it]"
     ]
    },
    {
     "name": "stdout",
     "output_type": "stream",
     "text": [
      "elevated  : C0205250 partial 25\n",
      "prostate CA  : C0376358 Exact 1\n"
     ]
    },
    {
     "name": "stderr",
     "output_type": "stream",
     "text": [
      "\r",
      "  1%|▍                                                                             | 37/7086 [03:06<8:44:06,  4.46s/it]"
     ]
    },
    {
     "name": "stdout",
     "output_type": "stream",
     "text": [
      "prostate CA  : C0376358 partial 7\n",
      "pelvic area  : C0030797 Exact 1\n"
     ]
    },
    {
     "name": "stderr",
     "output_type": "stream",
     "text": [
      "\r",
      "  1%|▍                                                                             | 38/7086 [03:10<8:27:46,  4.32s/it]"
     ]
    },
    {
     "name": "stdout",
     "output_type": "stream",
     "text": [
      "pelvic area  : C0030797 partial 22\n",
      "creatinine  : C0201975 Exact 1\n"
     ]
    },
    {
     "name": "stderr",
     "output_type": "stream",
     "text": [
      "\r",
      "  1%|▍                                                                            | 39/7086 [03:17<10:02:23,  5.13s/it]"
     ]
    },
    {
     "name": "stdout",
     "output_type": "stream",
     "text": [
      "creatinine  : C0201975 partial 25\n",
      "increasing  : C0442808 Exact 1\n"
     ]
    },
    {
     "name": "stderr",
     "output_type": "stream",
     "text": [
      "\r",
      "  1%|▍                                                                             | 40/7086 [03:21<9:33:58,  4.89s/it]"
     ]
    },
    {
     "name": "stdout",
     "output_type": "stream",
     "text": [
      "increasing  : C0442808 partial 25\n",
      "nephrostomy tube  : C0184149 Exact 1\n"
     ]
    },
    {
     "name": "stderr",
     "output_type": "stream",
     "text": [
      "\r",
      "  1%|▍                                                                             | 41/7086 [03:25<8:55:28,  4.56s/it]"
     ]
    },
    {
     "name": "stdout",
     "output_type": "stream",
     "text": [
      "nephrostomy tube  : C0184149 partial 25\n",
      "left  : C0205091 Exact 1\n"
     ]
    },
    {
     "name": "stderr",
     "output_type": "stream",
     "text": [
      "\r",
      "  1%|▍                                                                             | 42/7086 [03:29<8:35:42,  4.39s/it]"
     ]
    },
    {
     "name": "stdout",
     "output_type": "stream",
     "text": [
      "left  : C0205091 partial 25\n",
      "packed red blood cells  : C2316467 Exact 1\n"
     ]
    },
    {
     "name": "stderr",
     "output_type": "stream",
     "text": [
      "\r",
      "  1%|▍                                                                             | 43/7086 [03:32<8:14:08,  4.21s/it]"
     ]
    },
    {
     "name": "stdout",
     "output_type": "stream",
     "text": [
      "packed red blood cells  : C2316467 partial 7\n",
      "No known drug allergies  : C0262581 Exact 1\n"
     ]
    },
    {
     "name": "stderr",
     "output_type": "stream",
     "text": [
      "\r",
      "  1%|▍                                                                             | 44/7086 [03:36<7:57:14,  4.07s/it]"
     ]
    },
    {
     "name": "stdout",
     "output_type": "stream",
     "text": [
      "No known drug allergies  : C0262581 partial 2\n",
      "no acute distress  : CUI-less Exact 1\n"
     ]
    },
    {
     "name": "stderr",
     "output_type": "stream",
     "text": [
      "\r",
      "  1%|▍                                                                             | 45/7086 [03:41<8:28:12,  4.33s/it]"
     ]
    },
    {
     "name": "stdout",
     "output_type": "stream",
     "text": [
      "no acute distress  : CUI-less partial 14\n",
      "Isocoric  : C0578617 Exact 1\n"
     ]
    },
    {
     "name": "stderr",
     "output_type": "stream",
     "text": [
      "\r",
      "  1%|▌                                                                             | 46/7086 [03:45<8:03:37,  4.12s/it]"
     ]
    },
    {
     "name": "stdout",
     "output_type": "stream",
     "text": [
      "Isocoric  : C0578617 partial 1\n",
      "cataract  : C0086543 Exact 1\n"
     ]
    },
    {
     "name": "stderr",
     "output_type": "stream",
     "text": [
      "\r",
      "  1%|▌                                                                             | 47/7086 [03:49<8:21:52,  4.28s/it]"
     ]
    },
    {
     "name": "stdout",
     "output_type": "stream",
     "text": [
      "cataract  : C0086543 partial 25\n",
      "bilaterally  : C0238767 Exact 1\n"
     ]
    },
    {
     "name": "stderr",
     "output_type": "stream",
     "text": [
      "\r",
      "  1%|▌                                                                             | 48/7086 [03:53<7:56:25,  4.06s/it]"
     ]
    },
    {
     "name": "stdout",
     "output_type": "stream",
     "text": [
      "bilaterally  : C0238767 partial 25\n",
      "crackles  : C0034642 Exact 1\n"
     ]
    },
    {
     "name": "stderr",
     "output_type": "stream",
     "text": [
      "\r",
      "  1%|▌                                                                             | 49/7086 [03:57<7:42:31,  3.94s/it]"
     ]
    },
    {
     "name": "stdout",
     "output_type": "stream",
     "text": [
      "crackles  : C0034642 partial 25\n",
      "right lung base  : C0225708 Exact 1\n"
     ]
    },
    {
     "name": "stderr",
     "output_type": "stream",
     "text": [
      "\r",
      "  1%|▌                                                                             | 50/7086 [04:01<7:41:38,  3.94s/it]"
     ]
    },
    {
     "name": "stdout",
     "output_type": "stream",
     "text": [
      "right lung base  : C0225708 partial 4\n",
      "        prediction_source  cui\n",
      "0                    BERT   45\n",
      "1  Data available nowhere    5\n",
      "basilar  : C0225704 Exact 1\n"
     ]
    },
    {
     "name": "stderr",
     "output_type": "stream",
     "text": [
      "\r",
      "  1%|▌                                                                             | 51/7086 [04:08<9:35:07,  4.91s/it]"
     ]
    },
    {
     "name": "stdout",
     "output_type": "stream",
     "text": [
      "basilar  : C0225704 partial 25\n",
      "some  : C0205392 Exact 1\n"
     ]
    },
    {
     "name": "stderr",
     "output_type": "stream",
     "text": [
      "\r",
      "  1%|▌                                                                             | 52/7086 [04:12<9:02:16,  4.63s/it]"
     ]
    },
    {
     "name": "stdout",
     "output_type": "stream",
     "text": [
      "some  : C0205392 partial 25\n",
      "systolic ejection murmur  : C0277910 Exact 1\n"
     ]
    },
    {
     "name": "stderr",
     "output_type": "stream",
     "text": [
      "\r",
      "  1%|▌                                                                             | 53/7086 [04:16<9:05:33,  4.65s/it]"
     ]
    },
    {
     "name": "stdout",
     "output_type": "stream",
     "text": [
      "systolic ejection murmur  : C0277910 partial 15\n",
      "left sternal border  : C0222777 Exact 1\n"
     ]
    },
    {
     "name": "stderr",
     "output_type": "stream",
     "text": [
      "\r",
      "  1%|▌                                                                             | 54/7086 [04:20<8:30:34,  4.36s/it]"
     ]
    },
    {
     "name": "stdout",
     "output_type": "stream",
     "text": [
      "left sternal border  : C0222777 partial 25\n",
      "grade II / VI  : C0232250 Exact 1\n"
     ]
    },
    {
     "name": "stderr",
     "output_type": "stream",
     "text": [
      "\r",
      "  1%|▌                                                                             | 55/7086 [04:24<8:13:52,  4.21s/it]"
     ]
    },
    {
     "name": "stdout",
     "output_type": "stream",
     "text": [
      "grade II / VI  : C0232250 partial 1\n",
      "murmur  : C0232250 Exact 1\n"
     ]
    },
    {
     "name": "stderr",
     "output_type": "stream",
     "text": [
      "\r",
      "  1%|▌                                                                             | 56/7086 [04:31<9:41:43,  4.96s/it]"
     ]
    },
    {
     "name": "stdout",
     "output_type": "stream",
     "text": [
      "murmur  : C0232250 partial 25\n",
      "pitting edema  : C0333243 Exact 1\n"
     ]
    },
    {
     "name": "stderr",
     "output_type": "stream",
     "text": [
      "\r",
      "  1%|▋                                                                             | 57/7086 [04:34<8:55:43,  4.57s/it]"
     ]
    },
    {
     "name": "stdout",
     "output_type": "stream",
     "text": [
      "pitting edema  : C0333243 partial 25\n",
      "Traced  : C0442822 Exact 1\n"
     ]
    },
    {
     "name": "stderr",
     "output_type": "stream",
     "text": [
      "\r",
      "  1%|▋                                                                             | 58/7086 [04:38<8:21:55,  4.29s/it]"
     ]
    },
    {
     "name": "stdout",
     "output_type": "stream",
     "text": [
      "Traced  : C0442822 partial 15\n",
      "calf  : C0230445 Exact 1\n"
     ]
    },
    {
     "name": "stderr",
     "output_type": "stream",
     "text": [
      "\r",
      "  1%|▋                                                                             | 59/7086 [04:42<8:11:48,  4.20s/it]"
     ]
    },
    {
     "name": "stdout",
     "output_type": "stream",
     "text": [
      "calf  : C0230445 partial 25\n",
      "tenderness  : C0234233 Exact 1\n"
     ]
    },
    {
     "name": "stderr",
     "output_type": "stream",
     "text": [
      "\r",
      "  1%|▋                                                                             | 60/7086 [04:49<9:45:24,  5.00s/it]"
     ]
    },
    {
     "name": "stdout",
     "output_type": "stream",
     "text": [
      "tenderness  : C0234233 partial 25\n",
      "hydronephrosis  : C0020295 Exact 1\n"
     ]
    },
    {
     "name": "stderr",
     "output_type": "stream",
     "text": [
      "\r",
      "  1%|▋                                                                             | 61/7086 [04:53<9:00:00,  4.61s/it]"
     ]
    },
    {
     "name": "stdout",
     "output_type": "stream",
     "text": [
      "hydronephrosis  : C0020295 partial 25\n",
      "right  : C0205090 Exact 1\n"
     ]
    },
    {
     "name": "stderr",
     "output_type": "stream",
     "text": [
      "\r",
      "  1%|▋                                                                             | 62/7086 [04:58<9:16:15,  4.75s/it]"
     ]
    },
    {
     "name": "stdout",
     "output_type": "stream",
     "text": [
      "right  : C0205090 partial 25\n",
      "thickened  : C0205400 Exact 1\n"
     ]
    },
    {
     "name": "stderr",
     "output_type": "stream",
     "text": [
      "\r",
      "  1%|▋                                                                             | 63/7086 [05:01<8:35:01,  4.40s/it]"
     ]
    },
    {
     "name": "stdout",
     "output_type": "stream",
     "text": [
      "thickened  : C0205400 partial 25\n",
      "asymmetrically  : C0332514 Exact 1\n"
     ]
    },
    {
     "name": "stderr",
     "output_type": "stream",
     "text": [
      "\r",
      "  1%|▋                                                                             | 64/7086 [05:05<8:10:13,  4.19s/it]"
     ]
    },
    {
     "name": "stdout",
     "output_type": "stream",
     "text": [
      "asymmetrically  : C0332514 partial 9\n",
      "urinary bladder wall  : C0458421 Exact 1\n"
     ]
    },
    {
     "name": "stderr",
     "output_type": "stream",
     "text": [
      "\r",
      "  1%|▋                                                                             | 65/7086 [05:09<7:55:43,  4.07s/it]"
     ]
    },
    {
     "name": "stdout",
     "output_type": "stream",
     "text": [
      "urinary bladder wall  : C0458421 partial 25\n",
      "thickening  : C0205400 Exact 1\n"
     ]
    },
    {
     "name": "stderr",
     "output_type": "stream",
     "text": [
      "\r",
      "  1%|▋                                                                            | 66/7086 [05:16<10:01:51,  5.14s/it]"
     ]
    },
    {
     "name": "stdout",
     "output_type": "stream",
     "text": [
      "thickening  : C0205400 partial 25\n",
      "urinary bladder  : C0005682 Exact 1\n"
     ]
    },
    {
     "name": "stderr",
     "output_type": "stream",
     "text": [
      "\r",
      "  1%|▋                                                                             | 67/7086 [05:20<9:11:05,  4.71s/it]"
     ]
    },
    {
     "name": "stdout",
     "output_type": "stream",
     "text": [
      "urinary bladder  : C0005682 partial 25\n",
      "mass like  : CUI-less Exact 1\n"
     ]
    },
    {
     "name": "stderr",
     "output_type": "stream",
     "text": [
      "\r",
      "  1%|▋                                                                             | 68/7086 [05:24<8:53:42,  4.56s/it]"
     ]
    },
    {
     "name": "stdout",
     "output_type": "stream",
     "text": [
      "mass like  : CUI-less partial 25\n",
      "hypertrophy  : C0020564 Exact 1\n"
     ]
    },
    {
     "name": "stderr",
     "output_type": "stream",
     "text": [
      "\r",
      "  1%|▊                                                                             | 69/7086 [05:28<8:23:54,  4.31s/it]"
     ]
    },
    {
     "name": "stdout",
     "output_type": "stream",
     "text": [
      "hypertrophy  : C0020564 partial 25\n",
      "detrusor  : C1288327 Exact 1\n"
     ]
    },
    {
     "name": "stderr",
     "output_type": "stream",
     "text": [
      "\r",
      "  1%|▊                                                                             | 70/7086 [05:32<8:02:12,  4.12s/it]"
     ]
    },
    {
     "name": "stdout",
     "output_type": "stream",
     "text": [
      "detrusor  : C1288327 partial 25\n",
      "lung lesion  : C0577916 Exact 1\n"
     ]
    },
    {
     "name": "stderr",
     "output_type": "stream",
     "text": [
      "\r",
      "  1%|▊                                                                             | 71/7086 [05:38<9:26:11,  4.84s/it]"
     ]
    },
    {
     "name": "stdout",
     "output_type": "stream",
     "text": [
      "lung lesion  : C0577916 partial 25\n",
      "right lower lobe  : C1261075 Exact 1\n"
     ]
    },
    {
     "name": "stderr",
     "output_type": "stream",
     "text": [
      "\r",
      "  1%|▊                                                                            | 72/7086 [05:45<10:34:31,  5.43s/it]"
     ]
    },
    {
     "name": "stdout",
     "output_type": "stream",
     "text": [
      "right lower lobe  : C1261075 partial 25\n",
      "cavitary  : C1510420 Exact 1\n"
     ]
    },
    {
     "name": "stderr",
     "output_type": "stream",
     "text": [
      "\r",
      "  1%|▊                                                                            | 73/7086 [05:52<11:26:34,  5.87s/it]"
     ]
    },
    {
     "name": "stdout",
     "output_type": "stream",
     "text": [
      "cavitary  : C1510420 partial 25\n",
      "further  : CUI-less Exact 1\n"
     ]
    },
    {
     "name": "stderr",
     "output_type": "stream",
     "text": [
      "\r",
      "  1%|▊                                                                            | 74/7086 [05:57<10:52:47,  5.59s/it]"
     ]
    },
    {
     "name": "stdout",
     "output_type": "stream",
     "text": [
      "further  : CUI-less partial 25\n",
      "damage  : C0010957 Exact 1\n"
     ]
    },
    {
     "name": "stderr",
     "output_type": "stream",
     "text": [
      "\r",
      "  1%|▊                                                                             | 75/7086 [06:01<9:48:57,  5.04s/it]"
     ]
    },
    {
     "name": "stdout",
     "output_type": "stream",
     "text": [
      "damage  : C0010957 partial 25\n",
      "kidney  : C0022646 Exact 1\n"
     ]
    },
    {
     "name": "stderr",
     "output_type": "stream",
     "text": [
      "\r",
      "  1%|▊                                                                            | 76/7086 [06:07<10:53:58,  5.60s/it]"
     ]
    },
    {
     "name": "stdout",
     "output_type": "stream",
     "text": [
      "kidney  : C0022646 partial 25\n",
      "right  : C0205090 Exact 1\n"
     ]
    },
    {
     "name": "stderr",
     "output_type": "stream",
     "text": [
      "\r",
      "  1%|▊                                                                            | 77/7086 [06:12<10:06:23,  5.19s/it]"
     ]
    },
    {
     "name": "stdout",
     "output_type": "stream",
     "text": [
      "right  : C0205090 partial 25\n",
      "nephrostomy  : C0278314 Exact 1\n"
     ]
    },
    {
     "name": "stderr",
     "output_type": "stream",
     "text": [
      "\r",
      "  1%|▊                                                                             | 78/7086 [06:16<9:18:25,  4.78s/it]"
     ]
    },
    {
     "name": "stdout",
     "output_type": "stream",
     "text": [
      "nephrostomy  : C0278314 partial 25\n",
      "metabolic acidosis  : C0220981 Exact 1\n"
     ]
    },
    {
     "name": "stderr",
     "output_type": "stream",
     "text": [
      "\r",
      "  1%|▊                                                                             | 79/7086 [06:19<8:41:26,  4.46s/it]"
     ]
    },
    {
     "name": "stdout",
     "output_type": "stream",
     "text": [
      "metabolic acidosis  : C0220981 partial 25\n",
      "electrolyte  : C0428284 Exact 1\n"
     ]
    },
    {
     "name": "stderr",
     "output_type": "stream",
     "text": [
      "\r",
      "  1%|▉                                                                             | 80/7086 [06:24<8:55:33,  4.59s/it]"
     ]
    },
    {
     "name": "stdout",
     "output_type": "stream",
     "text": [
      "electrolyte  : C0428284 partial 25\n",
      "well advanced  : C0205179 Exact 1\n"
     ]
    },
    {
     "name": "stderr",
     "output_type": "stream",
     "text": [
      "\r",
      "  1%|▉                                                                             | 81/7086 [06:29<8:52:15,  4.56s/it]"
     ]
    },
    {
     "name": "stdout",
     "output_type": "stream",
     "text": [
      "well advanced  : C0205179 partial 4\n",
      "prostate CA  : C0376358 Exact 1\n"
     ]
    },
    {
     "name": "stderr",
     "output_type": "stream",
     "text": [
      "\r",
      "  1%|▉                                                                             | 82/7086 [06:33<8:38:46,  4.44s/it]"
     ]
    },
    {
     "name": "stdout",
     "output_type": "stream",
     "text": [
      "prostate CA  : C0376358 partial 7\n",
      "HISTORY OF PRESENT ILLNESS  : C1827596 Exact 1\n"
     ]
    },
    {
     "name": "stderr",
     "output_type": "stream",
     "text": [
      "\r",
      "  1%|▉                                                                             | 83/7086 [06:37<8:19:31,  4.28s/it]"
     ]
    },
    {
     "name": "stdout",
     "output_type": "stream",
     "text": [
      "HISTORY OF PRESENT ILLNESS  : C1827596 partial 11\n",
      "Niferex 150 milligrams  : C0212018 Exact 1\n"
     ]
    },
    {
     "name": "stderr",
     "output_type": "stream",
     "text": [
      "\r",
      "  1%|▉                                                                             | 84/7086 [06:41<8:08:39,  4.19s/it]"
     ]
    },
    {
     "name": "stdout",
     "output_type": "stream",
     "text": [
      "Niferex 150 milligrams  : C0212018 partial 1\n",
      "SIGNIFICANT  : C0750502 Exact 1\n"
     ]
    },
    {
     "name": "stderr",
     "output_type": "stream",
     "text": [
      "\r",
      "  1%|▉                                                                             | 85/7086 [06:44<7:50:10,  4.03s/it]"
     ]
    },
    {
     "name": "stdout",
     "output_type": "stream",
     "text": [
      "SIGNIFICANT  : C0750502 partial 25\n",
      "PROBLEMS  : C0033213 Exact 1\n"
     ]
    },
    {
     "name": "stderr",
     "output_type": "stream",
     "text": [
      "  1%|▉                                                                             | 86/7086 [06:51<9:18:21,  4.79s/it]"
     ]
    },
    {
     "name": "stdout",
     "output_type": "stream",
     "text": [
      "PROBLEMS  : C0033213 partial 25\n"
     ]
    },
    {
     "name": "stderr",
     "output_type": "stream",
     "text": [
      "\n"
     ]
    }
   ],
   "source": [
    "test_df['prediction'] = None\n",
    "test_df['prediction_source'] = None\n",
    "I = 7000\n",
    "\n",
    "\n",
    "# if mention in CUI less, give CUI less\n",
    "# so iterating all test CUIs and assign the CUI-less\n",
    "\n",
    "tgt = get_tgt()\n",
    "st = get_st(tgt)\n",
    "\n",
    "for i in tqdm(test_df.index[I:], total=len(test_df)):\n",
    "    I = i\n",
    "    tgt = get_tgt()\n",
    "    st = get_st(tgt)\n",
    "    if i%50 == 0:\n",
    "#         tgt = get_tgt()\n",
    "        print(test_df.groupby(by='prediction_source', as_index=False).count()[['prediction_source', 'cui']])\n",
    "    mention = test_df.loc[i]['mention']\n",
    "    if mention in iCUI:   # iterating train data\n",
    "        if 'CUI-less' in iCUI[mention]:\n",
    "            test_df.at[i, 'prediction'] = 'CUI-less'\n",
    "            test_df.at[i, 'prediction_source'] = 'train_data'\n",
    "        elif len(iCUI[mention])==1:\n",
    "            test_df.at[i, 'prediction'] = list(iCUI[mention])[0]\n",
    "            test_df.at[i, 'prediction_source'] = 'train_data'            \n",
    "        else:\n",
    "            test_df.at[i, 'prediction'] = iCUI[mention]\n",
    "            test_df.at[i, 'prediction_source'] = 'BERT'\n",
    "    else:  # not in train_data so we will search UMLS\n",
    "        CUIs = find_mention_in_UMLS_perfect_name(mention, st)\n",
    "        print(mention, \":\", test_df.loc[i]['cui'] ,\"Exact\", len(CUIs))\n",
    "        if len(CUIs)>=1 and CUIs[0]['cui']!='NONE':\n",
    "            if len(CUIs)==1:\n",
    "                test_df.at[i, 'prediction'] = CUIs[0]['cui']\n",
    "                test_df.at[i, 'prediction_source'] = 'UMLS_exact'\n",
    "            else:\n",
    "                test_df.at[i, 'prediction'] = [CUIs[_]['cui'] for _ in range(len(CUIs))]\n",
    "                test_df.at[i, 'prediction_source'] = 'BERT'\n",
    "        else:\n",
    "            tgt = get_tgt()\n",
    "            st = get_st(tgt)\n",
    "            CUIs = find_mention_in_UMLS_partial_name(mention, st)\n",
    "            print(mention, \":\", test_df.loc[i]['cui'] ,\"partial\", len(CUIs))\n",
    "            if len(CUIs)>=1 and CUIs[0]['cui']!='NONE':\n",
    "                if len(CUIs)==1:\n",
    "                    test_df.at[i, 'prediction'] = CUIs[0]['cui']\n",
    "                    test_df.at[i, 'prediction_source'] = 'UMLS_partial'\n",
    "                else:\n",
    "                    test_df.at[i, 'prediction'] = [CUIs[_]['cui'] for _ in range(len(CUIs))]\n",
    "                    test_df.at[i, 'prediction_source'] = 'BERT'\n",
    "            else:\n",
    "                test_df.at[i, 'prediction_source'] = 'Data available nowhere'\n",
    "                test_df.at[i, 'prediction'] = \"CUI-less\""
   ]
  },
  {
   "cell_type": "code",
   "execution_count": 75,
   "metadata": {},
   "outputs": [],
   "source": [
    "test_df[7000:].to_csv(\"temp_data.csv\")"
   ]
  },
  {
   "cell_type": "code",
   "execution_count": 46,
   "metadata": {},
   "outputs": [
    {
     "data": {
      "text/plain": [
       "0                     HIV positive \n",
       "1         left upper quadrant pain \n",
       "2                           nausea \n",
       "3                         vomiting \n",
       "4        a long-standing complaint \n",
       "                   ...             \n",
       "7081                   prostate CA \n",
       "7082    HISTORY OF PRESENT ILLNESS \n",
       "7083        Niferex 150 milligrams \n",
       "7084                   SIGNIFICANT \n",
       "7085                      PROBLEMS \n",
       "Name: mention, Length: 7086, dtype: object"
      ]
     },
     "execution_count": 46,
     "metadata": {},
     "output_type": "execute_result"
    }
   ],
   "source": [
    "test_df['mention']"
   ]
  },
  {
   "cell_type": "code",
   "execution_count": 65,
   "metadata": {},
   "outputs": [],
   "source": [
    "test_df.to_csv(\"test_data.csv\")"
   ]
  },
  {
   "cell_type": "code",
   "execution_count": null,
   "metadata": {},
   "outputs": [],
   "source": []
  },
  {
   "cell_type": "code",
   "execution_count": null,
   "metadata": {},
   "outputs": [],
   "source": []
  },
  {
   "cell_type": "code",
   "execution_count": 45,
   "metadata": {},
   "outputs": [
    {
     "name": "stdout",
     "output_type": "stream",
     "text": [
      "{'admission', 'murmur', 'INTERACTION', 'on admission', 'CP', 'bruit'}\n"
     ]
    },
    {
     "data": {
      "text/html": [
       "<div>\n",
       "<style scoped>\n",
       "    .dataframe tbody tr th:only-of-type {\n",
       "        vertical-align: middle;\n",
       "    }\n",
       "\n",
       "    .dataframe tbody tr th {\n",
       "        vertical-align: top;\n",
       "    }\n",
       "\n",
       "    .dataframe thead th {\n",
       "        text-align: right;\n",
       "    }\n",
       "</style>\n",
       "<table border=\"1\" class=\"dataframe\">\n",
       "  <thead>\n",
       "    <tr style=\"text-align: right;\">\n",
       "      <th></th>\n",
       "      <th>cui</th>\n",
       "      <th>original_sentence</th>\n",
       "      <th>masked_sentence</th>\n",
       "      <th>mention</th>\n",
       "      <th>position_start</th>\n",
       "      <th>position_end</th>\n",
       "      <th>prediction</th>\n",
       "    </tr>\n",
       "    <tr>\n",
       "      <th>prediction_source</th>\n",
       "      <th></th>\n",
       "      <th></th>\n",
       "      <th></th>\n",
       "      <th></th>\n",
       "      <th></th>\n",
       "      <th></th>\n",
       "      <th></th>\n",
       "    </tr>\n",
       "  </thead>\n",
       "  <tbody>\n",
       "    <tr>\n",
       "      <th>BERT</th>\n",
       "      <td>1</td>\n",
       "      <td>1</td>\n",
       "      <td>1</td>\n",
       "      <td>1</td>\n",
       "      <td>1</td>\n",
       "      <td>1</td>\n",
       "      <td>1</td>\n",
       "    </tr>\n",
       "    <tr>\n",
       "      <th>Data available nowhere</th>\n",
       "      <td>7080</td>\n",
       "      <td>7080</td>\n",
       "      <td>7080</td>\n",
       "      <td>7080</td>\n",
       "      <td>7080</td>\n",
       "      <td>7080</td>\n",
       "      <td>7080</td>\n",
       "    </tr>\n",
       "    <tr>\n",
       "      <th>train_data</th>\n",
       "      <td>5</td>\n",
       "      <td>5</td>\n",
       "      <td>5</td>\n",
       "      <td>5</td>\n",
       "      <td>5</td>\n",
       "      <td>5</td>\n",
       "      <td>5</td>\n",
       "    </tr>\n",
       "  </tbody>\n",
       "</table>\n",
       "</div>"
      ],
      "text/plain": [
       "                         cui  original_sentence  masked_sentence  mention  \\\n",
       "prediction_source                                                           \n",
       "BERT                       1                  1                1        1   \n",
       "Data available nowhere  7080               7080             7080     7080   \n",
       "train_data                 5                  5                5        5   \n",
       "\n",
       "                        position_start  position_end  prediction  \n",
       "prediction_source                                                 \n",
       "BERT                                 1             1           1  \n",
       "Data available nowhere            7080          7080        7080  \n",
       "train_data                           5             5           5  "
      ]
     },
     "execution_count": 45,
     "metadata": {},
     "output_type": "execute_result"
    }
   ],
   "source": [
    "print(set(test_df['mention']).intersection(set(iCUI.keys())))\n",
    "test_df.groupby(by='prediction_source').count()"
   ]
  },
  {
   "cell_type": "code",
   "execution_count": null,
   "metadata": {},
   "outputs": [],
   "source": [
    "# we only ask bert to rank the mention that have multiple mentinos"
   ]
  },
  {
   "cell_type": "code",
   "execution_count": null,
   "metadata": {},
   "outputs": [],
   "source": [
    "# test_candidates will be encoded representation\n",
    "# test_labels will lso be encoded\n",
    "\n",
    "test_data = TensorDataset(test_inputs, test_masks, test_labels, test_position, test_candidates)\n",
    "test_sampler = SequentialSampler(test_data)\n",
    "test_dataloader = DataLoader(test_data, sampler=test_sampler, batch_size=config.BATCH_SIZE)"
   ]
  },
  {
   "cell_type": "code",
   "execution_count": null,
   "metadata": {},
   "outputs": [],
   "source": [
    "model.eval()\n",
    "predictions , true_labels = [], []\n",
    "\n",
    "prediction_dataloader = test_data\n",
    "for batch in prediction_dataloader:\n",
    "    batch = tuple(t.to(device) for t in batch)\n",
    "    b_input_ids, b_input_mask, b_labels, b_pos, b_candidates = batch\n",
    "    with torch.no_grad():\n",
    "        outputs = model(b_input_ids, token_type_ids=None, attention_mask=b_input_mask)\n",
    "    logits = outputs[0]\n",
    "    \n",
    "    logits = logits.detach().cpu().numpy()\n",
    "    # argmax, but we need someting else\n",
    "    logits = np.argsort(logits, anis=1)\n",
    "    preds = []\n",
    "    for i in len(logits):\n",
    "        for _ in logits[i]:\n",
    "            if _ in b_candidates[i]:\n",
    "                pred = _\n",
    "                break\n",
    "            else:\n",
    "                pred = logits[i][0]\n",
    "        preds.append(pred)\n",
    "        \n",
    "    label_ids = b_labels.to('cpu').numpy()\n",
    "    predictions.append(preds)\n",
    "    true_labels.append(label_ids)\n",
    "print('DONE.')"
   ]
  },
  {
   "cell_type": "code",
   "execution_count": null,
   "metadata": {},
   "outputs": [],
   "source": [
    "from sklearn.metrics import accuracy_score\n",
    "flat_predictions = [item for sublist in predictions for item in sublist]\n",
    "\n",
    "flat_predictions = np.argmax(flat_predictions, axis=1).flatten()\n",
    "\n",
    "\n",
    "flat_true_labels = [item for sublist in true_labels for item in sublist]\n",
    "\n",
    "print(\"Accuracy: \", accuracy_score(flat_true_labels, flat_predictions))"
   ]
  },
  {
   "cell_type": "code",
   "execution_count": null,
   "metadata": {},
   "outputs": [],
   "source": []
  },
  {
   "cell_type": "code",
   "execution_count": null,
   "metadata": {},
   "outputs": [],
   "source": []
  }
 ],
 "metadata": {
  "kernelspec": {
   "display_name": "Python 3",
   "language": "python",
   "name": "python3"
  },
  "language_info": {
   "codemirror_mode": {
    "name": "ipython",
    "version": 3
   },
   "file_extension": ".py",
   "mimetype": "text/x-python",
   "name": "python",
   "nbconvert_exporter": "python",
   "pygments_lexer": "ipython3",
   "version": "3.7.6"
  }
 },
 "nbformat": 4,
 "nbformat_minor": 4
}
